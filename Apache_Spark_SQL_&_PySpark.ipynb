{
  "cells": [
    {
      "cell_type": "markdown",
      "metadata": {
        "id": "ERD4hsqaArXZ"
      },
      "source": [
        "<div style=\"background-color: white; padding: 10px; border-bottom: 6px solid #C2172D;\">\n",
        "    <h2 style=\"color: black\" id=\"introduction\">Batch Data Processing with Apache Spark</h2>\n",
        "    <p></p>\n",
        "</div>\n"
      ]
    },
    {
      "cell_type": "markdown",
      "source": [
        "ATALAY BEKTAŞ"
      ],
      "metadata": {
        "id": "ZmUufnw0cR5Q"
      }
    },
    {
      "cell_type": "markdown",
      "source": [
        "Not: Data'daki hatalı Retail.perquet dosyası düzeltildi\n"
      ],
      "metadata": {
        "id": "OsOVnN4HbTqQ"
      }
    },
    {
      "cell_type": "markdown",
      "metadata": {
        "id": "aRNSQEK8ArXc"
      },
      "source": [
        "## [Contents](#contents)\n",
        "1. [Introduction](#introduction)\n",
        "2. [Importing the libraries](#library)\n",
        "3. [Reading the data](#read_data)\n",
        "4. [SparkSQL Practices](#spark_sql_practices)\n",
        "   * [Selecting columns](#selecting_columns)\n",
        "   * [Data manipulation](#data_manipulation)\n",
        "   * [Filtering rows](#filtering_rows)\n",
        "   * [Aggregating data](#aggregating_data)\n",
        "   * [Joining](#joining)\n",
        "5. [Case Studies](#assignments)\n",
        "   * [Assignment 1: Jacket sales per region](#assignment_1)\n",
        "   * [Assignment 2: Maximum turnover of the retailer regions](#assignment_2)"
      ]
    },
    {
      "cell_type": "markdown",
      "metadata": {
        "id": "dXge89x5ArXd"
      },
      "source": [
        "<div style=\"background-color: white; padding: 10px; border-bottom: 4px solid #C2172D;\">\n",
        "    <a id=\"introduction\">\n",
        "        <h3 style=\"color: #C2172D\">1. Introduction</h3>\n",
        "    </a>  \n",
        "</div>"
      ]
    },
    {
      "cell_type": "markdown",
      "metadata": {
        "id": "e2GmXvUFArXd"
      },
      "source": [
        "<img src=\"/content/drive/My Drive/yzup/huwaei assigment/data_model.svg\"  style=\"width:1000px; padding: 20px\"/>\n",
        "\n",
        "#### SQL Tables Description\n",
        "- **FactSale:** Sales transactions fact table\n",
        "- **FactPurchase:** Purchases fact table\n",
        "- **DimRetailer:** Retailer details dimension table\n",
        "- **DimCustomer:** Customer details dimension table\n",
        "- **DimProduct:** Product details dimension table\n",
        "- **DimRegion:** Region details dimension table\n",
        "- **DimDate:** Date dimension table\n",
        "- **DimSupplier:** Supplier details dimension table"
      ]
    },
    {
      "cell_type": "markdown",
      "metadata": {
        "id": "W9h1rKF-ArXe"
      },
      "source": [
        "<div style=\"background-color: white; padding: 10px; border-bottom: 4px solid #C2172D;\">\n",
        "    <a id=\"library\">\n",
        "        <h3 style=\"color: #C2172D\">2. Importing the libraries</h3>\n",
        "    </a>\n",
        "</div>"
      ]
    },
    {
      "cell_type": "code",
      "execution_count": 2,
      "metadata": {
        "colab": {
          "base_uri": "https://localhost:8080/",
          "height": 780
        },
        "id": "mobATuV3ArXe",
        "outputId": "7195cffc-bc62-47fa-c70a-53e55ebf8f7c"
      },
      "outputs": [
        {
          "output_type": "stream",
          "name": "stdout",
          "text": [
            "Mounted at /content/drive\n"
          ]
        },
        {
          "output_type": "execute_result",
          "data": {
            "text/plain": [
              "<IPython.core.display.SVG object>"
            ],
            "image/svg+xml": "<svg xmlns=\"http://www.w3.org/2000/svg\" xmlns:xlink=\"http://www.w3.org/1999/xlink\" version=\"1.1\" width=\"1602px\" height=\"741px\" viewBox=\"-0.5 -0.5 1602 741\" content=\"&lt;mxfile host=&quot;Electron&quot; modified=&quot;2024-02-23T11:02:18.975Z&quot; agent=&quot;Mozilla/5.0 (Windows NT 10.0; Win64; x64) AppleWebKit/537.36 (KHTML, like Gecko) draw.io/22.1.2 Chrome/114.0.5735.289 Electron/25.9.4 Safari/537.36&quot; etag=&quot;86ptQflA93aA-Q7qewWj&quot; version=&quot;22.1.2&quot; type=&quot;device&quot; pages=&quot;2&quot;&gt;&lt;diagram name=&quot;Sayfa -1&quot; id=&quot;AvwS3Dze4EHyJ2HAEJjZ&quot;&gt;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&lt;/diagram&gt;&lt;diagram id=&quot;B-iUnfncPO2feeA_XEgB&quot; name=&quot;Page-2&quot;&gt;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&lt;/diagram&gt;&lt;/mxfile&gt;\" style=\"background-color: rgb(255, 255, 255);\"><defs/><g><path d=\"M 1320 270 L 1320 253.5 Q 1320 240 1306.5 240 L 1133.5 240 Q 1120 240 1120 253.5 L 1120 270\" fill=\"#cce6b8\" stroke=\"rgb(0, 0, 0)\" stroke-miterlimit=\"10\" pointer-events=\"all\"/><path d=\"M 1120 270 L 1120 466.5 Q 1120 480 1133.5 480 L 1306.5 480 Q 1320 480 1320 466.5 L 1320 270\" fill=\"none\" stroke=\"rgb(0, 0, 0)\" stroke-miterlimit=\"10\" pointer-events=\"none\"/><path d=\"M 1120 270 L 1320 270\" fill=\"none\" stroke=\"rgb(0, 0, 0)\" stroke-miterlimit=\"10\" pointer-events=\"none\"/><path d=\"M 1220 270 L 1220 300 L 1220 330 L 1220 360 L 1220 390 L 1220 420 L 1220 450 L 1220 480\" fill=\"none\" stroke=\"rgb(0, 0, 0)\" stroke-miterlimit=\"10\" pointer-events=\"none\"/><g fill=\"rgb(0, 0, 0)\" font-family=\"Helvetica\" font-weight=\"bold\" text-anchor=\"middle\" font-size=\"13px\"><text x=\"1219.5\" y=\"260\">FactPurchase</text></g><rect x=\"1120\" y=\"270\" width=\"100\" height=\"30\" fill=\"none\" stroke=\"none\" pointer-events=\"all\"/><path d=\"M 1120 270 M 1220 270 M 1220 300 M 1120 300\" fill=\"none\" stroke=\"rgb(0, 0, 0)\" stroke-linecap=\"square\" stroke-miterlimit=\"10\" pointer-events=\"all\"/><g transform=\"translate(-0.5 -0.5)\"><switch><foreignObject pointer-events=\"none\" width=\"100%\" height=\"100%\" requiredFeatures=\"http://www.w3.org/TR/SVG11/feature#Extensibility\" style=\"overflow: visible; text-align: left;\"><div xmlns=\"http://www.w3.org/1999/xhtml\" style=\"display: flex; align-items: unsafe center; justify-content: unsafe center; width: 98px; height: 1px; padding-top: 285px; margin-left: 1121px;\"><div data-drawio-colors=\"color: rgb(0, 0, 0); \" style=\"box-sizing: border-box; font-size: 0px; text-align: center; max-height: 26px; overflow: hidden;\"><div style=\"display: inline-block; font-size: 13px; font-family: Helvetica; color: rgb(0, 0, 0); line-height: 1.2; pointer-events: all; white-space: normal; overflow-wrap: normal;\"><font style=\"font-size: 13px;\">purchase_id</font></div></div></div></foreignObject><text x=\"1170\" y=\"289\" fill=\"rgb(0, 0, 0)\" font-family=\"Helvetica\" font-size=\"13px\" text-anchor=\"middle\">purchase_id</text></switch></g><rect x=\"1220\" y=\"270\" width=\"100\" height=\"30\" fill=\"none\" stroke=\"none\" pointer-events=\"all\"/><path d=\"M 1220 270 M 1320 270 M 1320 300 M 1220 300\" fill=\"none\" stroke=\"rgb(0, 0, 0)\" stroke-linecap=\"square\" stroke-miterlimit=\"10\" pointer-events=\"all\"/><g transform=\"translate(-0.5 -0.5)\"><switch><foreignObject pointer-events=\"none\" width=\"100%\" height=\"100%\" requiredFeatures=\"http://www.w3.org/TR/SVG11/feature#Extensibility\" style=\"overflow: visible; text-align: left;\"><div xmlns=\"http://www.w3.org/1999/xhtml\" style=\"display: flex; align-items: unsafe center; justify-content: unsafe flex-start; width: 92px; height: 1px; padding-top: 285px; margin-left: 1228px;\"><div data-drawio-colors=\"color: rgb(0, 0, 0); \" style=\"box-sizing: border-box; font-size: 0px; text-align: left; max-height: 26px; overflow: hidden;\"><div style=\"display: inline-block; font-size: 13px; font-family: Helvetica; color: rgb(0, 0, 0); line-height: 1.2; pointer-events: all; white-space: normal; overflow-wrap: normal;\"><font style=\"font-size: 13px;\">INTEGER</font></div></div></div></foreignObject><text x=\"1228\" y=\"289\" fill=\"rgb(0, 0, 0)\" font-family=\"Helvetica\" font-size=\"13px\">INTEGER</text></switch></g><rect x=\"1120\" y=\"300\" width=\"100\" height=\"30\" fill=\"none\" stroke=\"none\" pointer-events=\"all\"/><path d=\"M 1120 300 M 1220 300 M 1220 330 M 1120 330\" fill=\"none\" stroke=\"rgb(0, 0, 0)\" stroke-linecap=\"square\" stroke-miterlimit=\"10\" pointer-events=\"all\"/><g transform=\"translate(-0.5 -0.5)\"><switch><foreignObject pointer-events=\"none\" width=\"100%\" height=\"100%\" requiredFeatures=\"http://www.w3.org/TR/SVG11/feature#Extensibility\" style=\"overflow: visible; text-align: left;\"><div xmlns=\"http://www.w3.org/1999/xhtml\" style=\"display: flex; align-items: unsafe center; justify-content: unsafe center; width: 98px; height: 1px; padding-top: 315px; margin-left: 1121px;\"><div data-drawio-colors=\"color: rgb(0, 0, 0); \" style=\"box-sizing: border-box; font-size: 0px; text-align: center; max-height: 26px; overflow: hidden;\"><div style=\"display: inline-block; font-size: 13px; font-family: Helvetica; color: rgb(0, 0, 0); line-height: 1.2; pointer-events: all; white-space: normal; overflow-wrap: normal;\"><font style=\"font-size: 13px;\">supplier_id<br style=\"font-size: 13px;\"/></font></div></div></div></foreignObject><text x=\"1170\" y=\"319\" fill=\"rgb(0, 0, 0)\" font-family=\"Helvetica\" font-size=\"13px\" text-anchor=\"middle\">supplier_id\n</text></switch></g><rect x=\"1220\" y=\"300\" width=\"100\" height=\"30\" fill=\"none\" stroke=\"none\" pointer-events=\"all\"/><path d=\"M 1220 300 M 1320 300 M 1320 330 M 1220 330\" fill=\"none\" stroke=\"rgb(0, 0, 0)\" stroke-linecap=\"square\" stroke-miterlimit=\"10\" pointer-events=\"all\"/><g transform=\"translate(-0.5 -0.5)\"><switch><foreignObject pointer-events=\"none\" width=\"100%\" height=\"100%\" requiredFeatures=\"http://www.w3.org/TR/SVG11/feature#Extensibility\" style=\"overflow: visible; text-align: left;\"><div xmlns=\"http://www.w3.org/1999/xhtml\" style=\"display: flex; align-items: unsafe center; justify-content: unsafe flex-start; width: 92px; height: 1px; padding-top: 315px; margin-left: 1228px;\"><div data-drawio-colors=\"color: rgb(0, 0, 0); \" style=\"box-sizing: border-box; font-size: 0px; text-align: left; max-height: 26px; overflow: hidden;\"><div style=\"display: inline-block; font-size: 13px; font-family: Helvetica; color: rgb(0, 0, 0); line-height: 1.2; pointer-events: all; white-space: normal; overflow-wrap: normal;\">INTEGER</div></div></div></foreignObject><text x=\"1228\" y=\"319\" fill=\"rgb(0, 0, 0)\" font-family=\"Helvetica\" font-size=\"13px\">INTEGER</text></switch></g><rect x=\"1120\" y=\"330\" width=\"100\" height=\"30\" fill=\"none\" stroke=\"none\" pointer-events=\"all\"/><path d=\"M 1120 330 M 1220 330 M 1220 360 M 1120 360\" fill=\"none\" stroke=\"rgb(0, 0, 0)\" stroke-linecap=\"square\" stroke-miterlimit=\"10\" pointer-events=\"all\"/><g transform=\"translate(-0.5 -0.5)\"><switch><foreignObject pointer-events=\"none\" width=\"100%\" height=\"100%\" requiredFeatures=\"http://www.w3.org/TR/SVG11/feature#Extensibility\" style=\"overflow: visible; text-align: left;\"><div xmlns=\"http://www.w3.org/1999/xhtml\" style=\"display: flex; align-items: unsafe center; justify-content: unsafe center; width: 98px; height: 1px; padding-top: 345px; margin-left: 1121px;\"><div data-drawio-colors=\"color: rgb(0, 0, 0); \" style=\"box-sizing: border-box; font-size: 0px; text-align: center; max-height: 26px; overflow: hidden;\"><div style=\"display: inline-block; font-size: 13px; font-family: Helvetica; color: rgb(0, 0, 0); line-height: 1.2; pointer-events: all; white-space: normal; overflow-wrap: normal;\"><font style=\"font-size: 13px;\">product_id</font></div></div></div></foreignObject><text x=\"1170\" y=\"349\" fill=\"rgb(0, 0, 0)\" font-family=\"Helvetica\" font-size=\"13px\" text-anchor=\"middle\">product_id</text></switch></g><rect x=\"1220\" y=\"330\" width=\"100\" height=\"30\" fill=\"none\" stroke=\"none\" pointer-events=\"all\"/><path d=\"M 1220 330 M 1320 330 M 1320 360 M 1220 360\" fill=\"none\" stroke=\"rgb(0, 0, 0)\" stroke-linecap=\"square\" stroke-miterlimit=\"10\" pointer-events=\"all\"/><g transform=\"translate(-0.5 -0.5)\"><switch><foreignObject pointer-events=\"none\" width=\"100%\" height=\"100%\" requiredFeatures=\"http://www.w3.org/TR/SVG11/feature#Extensibility\" style=\"overflow: visible; text-align: left;\"><div xmlns=\"http://www.w3.org/1999/xhtml\" style=\"display: flex; align-items: unsafe center; justify-content: unsafe flex-start; width: 92px; height: 1px; padding-top: 345px; margin-left: 1228px;\"><div data-drawio-colors=\"color: rgb(0, 0, 0); \" style=\"box-sizing: border-box; font-size: 0px; text-align: left; max-height: 26px; overflow: hidden;\"><div style=\"display: inline-block; font-size: 13px; font-family: Helvetica; color: rgb(0, 0, 0); line-height: 1.2; pointer-events: all; white-space: normal; overflow-wrap: normal;\">INTEGER</div></div></div></foreignObject><text x=\"1228\" y=\"349\" fill=\"rgb(0, 0, 0)\" font-family=\"Helvetica\" font-size=\"13px\">INTEGER</text></switch></g><rect x=\"1120\" y=\"360\" width=\"100\" height=\"30\" fill=\"none\" stroke=\"none\" pointer-events=\"all\"/><path d=\"M 1120 360 M 1220 360 M 1220 390 M 1120 390\" fill=\"none\" stroke=\"rgb(0, 0, 0)\" stroke-linecap=\"square\" stroke-miterlimit=\"10\" pointer-events=\"all\"/><g transform=\"translate(-0.5 -0.5)\"><switch><foreignObject pointer-events=\"none\" width=\"100%\" height=\"100%\" requiredFeatures=\"http://www.w3.org/TR/SVG11/feature#Extensibility\" style=\"overflow: visible; text-align: left;\"><div xmlns=\"http://www.w3.org/1999/xhtml\" style=\"display: flex; align-items: unsafe center; justify-content: unsafe center; width: 98px; height: 1px; padding-top: 375px; margin-left: 1121px;\"><div data-drawio-colors=\"color: rgb(0, 0, 0); \" style=\"box-sizing: border-box; font-size: 0px; text-align: center; max-height: 26px; overflow: hidden;\"><div style=\"display: inline-block; font-size: 13px; font-family: Helvetica; color: rgb(0, 0, 0); line-height: 1.2; pointer-events: all; white-space: normal; overflow-wrap: normal;\"><font style=\"font-size: 13px;\">pur_quan<br style=\"font-size: 13px;\"/></font></div></div></div></foreignObject><text x=\"1170\" y=\"379\" fill=\"rgb(0, 0, 0)\" font-family=\"Helvetica\" font-size=\"13px\" text-anchor=\"middle\">pur_quan\n</text></switch></g><rect x=\"1220\" y=\"360\" width=\"100\" height=\"30\" fill=\"none\" stroke=\"none\" pointer-events=\"all\"/><path d=\"M 1220 360 M 1320 360 M 1320 390 M 1220 390\" fill=\"none\" stroke=\"rgb(0, 0, 0)\" stroke-linecap=\"square\" stroke-miterlimit=\"10\" pointer-events=\"all\"/><g transform=\"translate(-0.5 -0.5)\"><switch><foreignObject pointer-events=\"none\" width=\"100%\" height=\"100%\" requiredFeatures=\"http://www.w3.org/TR/SVG11/feature#Extensibility\" style=\"overflow: visible; text-align: left;\"><div xmlns=\"http://www.w3.org/1999/xhtml\" style=\"display: flex; align-items: unsafe center; justify-content: unsafe flex-start; width: 92px; height: 1px; padding-top: 375px; margin-left: 1228px;\"><div data-drawio-colors=\"color: rgb(0, 0, 0); \" style=\"box-sizing: border-box; font-size: 0px; text-align: left; max-height: 26px; overflow: hidden;\"><div style=\"display: inline-block; font-size: 13px; font-family: Helvetica; color: rgb(0, 0, 0); line-height: 1.2; pointer-events: all; white-space: normal; overflow-wrap: normal;\">INTEGER</div></div></div></foreignObject><text x=\"1228\" y=\"379\" fill=\"rgb(0, 0, 0)\" font-family=\"Helvetica\" font-size=\"13px\">INTEGER</text></switch></g><rect x=\"1120\" y=\"390\" width=\"100\" height=\"30\" fill=\"none\" stroke=\"none\" pointer-events=\"all\"/><path d=\"M 1120 390 M 1220 390 M 1220 420 M 1120 420\" fill=\"none\" stroke=\"rgb(0, 0, 0)\" stroke-linecap=\"square\" stroke-miterlimit=\"10\" pointer-events=\"all\"/><g transform=\"translate(-0.5 -0.5)\"><switch><foreignObject pointer-events=\"none\" width=\"100%\" height=\"100%\" requiredFeatures=\"http://www.w3.org/TR/SVG11/feature#Extensibility\" style=\"overflow: visible; text-align: left;\"><div xmlns=\"http://www.w3.org/1999/xhtml\" style=\"display: flex; align-items: unsafe center; justify-content: unsafe center; width: 98px; height: 1px; padding-top: 405px; margin-left: 1121px;\"><div data-drawio-colors=\"color: rgb(0, 0, 0); \" style=\"box-sizing: border-box; font-size: 0px; text-align: center; max-height: 26px; overflow: hidden;\"><div style=\"display: inline-block; font-size: 13px; font-family: Helvetica; color: rgb(0, 0, 0); line-height: 1.2; pointer-events: all; white-space: normal; overflow-wrap: normal;\">pur_price</div></div></div></foreignObject><text x=\"1170\" y=\"409\" fill=\"rgb(0, 0, 0)\" font-family=\"Helvetica\" font-size=\"13px\" text-anchor=\"middle\">pur_price</text></switch></g><rect x=\"1220\" y=\"390\" width=\"100\" height=\"30\" fill=\"none\" stroke=\"none\" pointer-events=\"all\"/><path d=\"M 1220 390 M 1320 390 M 1320 420 M 1220 420\" fill=\"none\" stroke=\"rgb(0, 0, 0)\" stroke-linecap=\"square\" stroke-miterlimit=\"10\" pointer-events=\"all\"/><g transform=\"translate(-0.5 -0.5)\"><switch><foreignObject pointer-events=\"none\" width=\"100%\" height=\"100%\" requiredFeatures=\"http://www.w3.org/TR/SVG11/feature#Extensibility\" style=\"overflow: visible; text-align: left;\"><div xmlns=\"http://www.w3.org/1999/xhtml\" style=\"display: flex; align-items: unsafe center; justify-content: unsafe flex-start; width: 92px; height: 1px; padding-top: 405px; margin-left: 1228px;\"><div data-drawio-colors=\"color: rgb(0, 0, 0); \" style=\"box-sizing: border-box; font-size: 0px; text-align: left; max-height: 26px; overflow: hidden;\"><div style=\"display: inline-block; font-size: 13px; font-family: Helvetica; color: rgb(0, 0, 0); line-height: 1.2; pointer-events: all; white-space: normal; overflow-wrap: normal;\">INTEGER</div></div></div></foreignObject><text x=\"1228\" y=\"409\" fill=\"rgb(0, 0, 0)\" font-family=\"Helvetica\" font-size=\"13px\">INTEGER</text></switch></g><rect x=\"1120\" y=\"420\" width=\"100\" height=\"30\" fill=\"none\" stroke=\"none\" pointer-events=\"all\"/><path d=\"M 1120 420 M 1220 420 M 1220 450 M 1120 450\" fill=\"none\" stroke=\"rgb(0, 0, 0)\" stroke-linecap=\"square\" stroke-miterlimit=\"10\" pointer-events=\"all\"/><g transform=\"translate(-0.5 -0.5)\"><switch><foreignObject pointer-events=\"none\" width=\"100%\" height=\"100%\" requiredFeatures=\"http://www.w3.org/TR/SVG11/feature#Extensibility\" style=\"overflow: visible; text-align: left;\"><div xmlns=\"http://www.w3.org/1999/xhtml\" style=\"display: flex; align-items: unsafe center; justify-content: unsafe center; width: 98px; height: 1px; padding-top: 435px; margin-left: 1121px;\"><div data-drawio-colors=\"color: rgb(0, 0, 0); \" style=\"box-sizing: border-box; font-size: 0px; text-align: center; max-height: 26px; overflow: hidden;\"><div style=\"display: inline-block; font-size: 13px; font-family: Helvetica; color: rgb(0, 0, 0); line-height: 1.2; pointer-events: all; white-space: normal; overflow-wrap: normal;\">total_cost</div></div></div></foreignObject><text x=\"1170\" y=\"439\" fill=\"rgb(0, 0, 0)\" font-family=\"Helvetica\" font-size=\"13px\" text-anchor=\"middle\">total_cost</text></switch></g><rect x=\"1220\" y=\"420\" width=\"100\" height=\"30\" fill=\"none\" stroke=\"none\" pointer-events=\"all\"/><path d=\"M 1220 420 M 1320 420 M 1320 450 M 1220 450\" fill=\"none\" stroke=\"rgb(0, 0, 0)\" stroke-linecap=\"square\" stroke-miterlimit=\"10\" pointer-events=\"all\"/><g transform=\"translate(-0.5 -0.5)\"><switch><foreignObject pointer-events=\"none\" width=\"100%\" height=\"100%\" requiredFeatures=\"http://www.w3.org/TR/SVG11/feature#Extensibility\" style=\"overflow: visible; text-align: left;\"><div xmlns=\"http://www.w3.org/1999/xhtml\" style=\"display: flex; align-items: unsafe center; justify-content: unsafe flex-start; width: 92px; height: 1px; padding-top: 435px; margin-left: 1228px;\"><div data-drawio-colors=\"color: rgb(0, 0, 0); \" style=\"box-sizing: border-box; font-size: 0px; text-align: left; max-height: 26px; overflow: hidden;\"><div style=\"display: inline-block; font-size: 13px; font-family: Helvetica; color: rgb(0, 0, 0); line-height: 1.2; pointer-events: all; white-space: normal; overflow-wrap: normal;\">INTEGER</div></div></div></foreignObject><text x=\"1228\" y=\"439\" fill=\"rgb(0, 0, 0)\" font-family=\"Helvetica\" font-size=\"13px\">INTEGER</text></switch></g><rect x=\"1120\" y=\"450\" width=\"100\" height=\"30\" fill=\"none\" stroke=\"none\" pointer-events=\"all\"/><path d=\"M 1120 450 M 1220 450 M 1220 480 M 1120 480\" fill=\"none\" stroke=\"rgb(0, 0, 0)\" stroke-linecap=\"square\" stroke-miterlimit=\"10\" pointer-events=\"all\"/><g transform=\"translate(-0.5 -0.5)\"><switch><foreignObject pointer-events=\"none\" width=\"100%\" height=\"100%\" requiredFeatures=\"http://www.w3.org/TR/SVG11/feature#Extensibility\" style=\"overflow: visible; text-align: left;\"><div xmlns=\"http://www.w3.org/1999/xhtml\" style=\"display: flex; align-items: unsafe center; justify-content: unsafe center; width: 98px; height: 1px; padding-top: 465px; margin-left: 1121px;\"><div data-drawio-colors=\"color: rgb(0, 0, 0); \" style=\"box-sizing: border-box; font-size: 0px; text-align: center; max-height: 26px; overflow: hidden;\"><div style=\"display: inline-block; font-size: 13px; font-family: Helvetica; color: rgb(0, 0, 0); line-height: 1.2; pointer-events: all; white-space: normal; overflow-wrap: normal;\"><font style=\"font-size: 13px;\">date<br style=\"font-size: 13px;\"/></font></div></div></div></foreignObject><text x=\"1170\" y=\"469\" fill=\"rgb(0, 0, 0)\" font-family=\"Helvetica\" font-size=\"13px\" text-anchor=\"middle\">date\n</text></switch></g><rect x=\"1220\" y=\"450\" width=\"100\" height=\"30\" fill=\"none\" stroke=\"none\" pointer-events=\"all\"/><path d=\"M 1220 450 M 1320 450 M 1320 480 M 1220 480\" fill=\"none\" stroke=\"rgb(0, 0, 0)\" stroke-linecap=\"square\" stroke-miterlimit=\"10\" pointer-events=\"all\"/><g transform=\"translate(-0.5 -0.5)\"><switch><foreignObject pointer-events=\"none\" width=\"100%\" height=\"100%\" requiredFeatures=\"http://www.w3.org/TR/SVG11/feature#Extensibility\" style=\"overflow: visible; text-align: left;\"><div xmlns=\"http://www.w3.org/1999/xhtml\" style=\"display: flex; align-items: unsafe center; justify-content: unsafe flex-start; width: 92px; height: 1px; padding-top: 465px; margin-left: 1228px;\"><div data-drawio-colors=\"color: rgb(0, 0, 0); \" style=\"box-sizing: border-box; font-size: 0px; text-align: left; max-height: 26px; overflow: hidden;\"><div style=\"display: inline-block; font-size: 13px; font-family: Helvetica; color: rgb(0, 0, 0); line-height: 1.2; pointer-events: all; white-space: normal; overflow-wrap: normal;\">DATE</div></div></div></foreignObject><text x=\"1228\" y=\"469\" fill=\"rgb(0, 0, 0)\" font-family=\"Helvetica\" font-size=\"13px\">DATE</text></switch></g><path d=\"M 1040 510 L 1040 493.5 Q 1040 480 1026.5 480 L 853.5 480 Q 840 480 840 493.5 L 840 510\" fill=\"#cadae6\" stroke=\"rgb(0, 0, 0)\" stroke-miterlimit=\"10\" pointer-events=\"all\"/><path d=\"M 840 510 L 840 706.5 Q 840 720 853.5 720 L 1026.5 720 Q 1040 720 1040 706.5 L 1040 510\" fill=\"none\" stroke=\"rgb(0, 0, 0)\" stroke-miterlimit=\"10\" pointer-events=\"none\"/><path d=\"M 840 510 L 1040 510\" fill=\"none\" stroke=\"rgb(0, 0, 0)\" stroke-miterlimit=\"10\" pointer-events=\"none\"/><path d=\"M 940 510 L 940 540 L 940 570 L 940 600 L 940 630 L 940 660 L 940 690 L 940 720\" fill=\"none\" stroke=\"rgb(0, 0, 0)\" stroke-miterlimit=\"10\" pointer-events=\"none\"/><g fill=\"rgb(0, 0, 0)\" font-family=\"Helvetica\" font-weight=\"bold\" text-anchor=\"middle\" font-size=\"13px\"><text x=\"939.5\" y=\"500\">DimProduct</text></g><rect x=\"840\" y=\"510\" width=\"100\" height=\"30\" fill=\"none\" stroke=\"none\" pointer-events=\"all\"/><path d=\"M 840 510 M 940 510 M 940 540 M 840 540\" fill=\"none\" stroke=\"rgb(0, 0, 0)\" stroke-linecap=\"square\" stroke-miterlimit=\"10\" pointer-events=\"all\"/><g transform=\"translate(-0.5 -0.5)\"><switch><foreignObject pointer-events=\"none\" width=\"100%\" height=\"100%\" requiredFeatures=\"http://www.w3.org/TR/SVG11/feature#Extensibility\" style=\"overflow: visible; text-align: left;\"><div xmlns=\"http://www.w3.org/1999/xhtml\" style=\"display: flex; align-items: unsafe center; justify-content: unsafe center; width: 98px; height: 1px; padding-top: 525px; margin-left: 841px;\"><div data-drawio-colors=\"color: rgb(0, 0, 0); \" style=\"box-sizing: border-box; font-size: 0px; text-align: center; max-height: 26px; overflow: hidden;\"><div style=\"display: inline-block; font-size: 13px; font-family: Helvetica; color: rgb(0, 0, 0); line-height: 1.2; pointer-events: all; white-space: normal; overflow-wrap: normal;\"><font style=\"font-size: 13px;\">product_id</font></div></div></div></foreignObject><text x=\"890\" y=\"529\" fill=\"rgb(0, 0, 0)\" font-family=\"Helvetica\" font-size=\"13px\" text-anchor=\"middle\">product_id</text></switch></g><rect x=\"940\" y=\"510\" width=\"100\" height=\"30\" fill=\"none\" stroke=\"none\" pointer-events=\"all\"/><path d=\"M 940 510 M 1040 510 M 1040 540 M 940 540\" fill=\"none\" stroke=\"rgb(0, 0, 0)\" stroke-linecap=\"square\" stroke-miterlimit=\"10\" pointer-events=\"all\"/><g transform=\"translate(-0.5 -0.5)\"><switch><foreignObject pointer-events=\"none\" width=\"100%\" height=\"100%\" requiredFeatures=\"http://www.w3.org/TR/SVG11/feature#Extensibility\" style=\"overflow: visible; text-align: left;\"><div xmlns=\"http://www.w3.org/1999/xhtml\" style=\"display: flex; align-items: unsafe center; justify-content: unsafe flex-start; width: 92px; height: 1px; padding-top: 525px; margin-left: 948px;\"><div data-drawio-colors=\"color: rgb(0, 0, 0); \" style=\"box-sizing: border-box; font-size: 0px; text-align: left; max-height: 26px; overflow: hidden;\"><div style=\"display: inline-block; font-size: 13px; font-family: Helvetica; color: rgb(0, 0, 0); line-height: 1.2; pointer-events: all; white-space: normal; overflow-wrap: normal;\"><font style=\"font-size: 13px;\">INTEGER</font></div></div></div></foreignObject><text x=\"948\" y=\"529\" fill=\"rgb(0, 0, 0)\" font-family=\"Helvetica\" font-size=\"13px\">INTEGER</text></switch></g><rect x=\"840\" y=\"540\" width=\"100\" height=\"30\" fill=\"none\" stroke=\"none\" pointer-events=\"all\"/><path d=\"M 840 540 M 940 540 M 940 570 M 840 570\" fill=\"none\" stroke=\"rgb(0, 0, 0)\" stroke-linecap=\"square\" stroke-miterlimit=\"10\" pointer-events=\"all\"/><g transform=\"translate(-0.5 -0.5)\"><switch><foreignObject pointer-events=\"none\" width=\"100%\" height=\"100%\" requiredFeatures=\"http://www.w3.org/TR/SVG11/feature#Extensibility\" style=\"overflow: visible; text-align: left;\"><div xmlns=\"http://www.w3.org/1999/xhtml\" style=\"display: flex; align-items: unsafe center; justify-content: unsafe center; width: 98px; height: 1px; padding-top: 555px; margin-left: 841px;\"><div data-drawio-colors=\"color: rgb(0, 0, 0); \" style=\"box-sizing: border-box; font-size: 0px; text-align: center; max-height: 26px; overflow: hidden;\"><div style=\"display: inline-block; font-size: 13px; font-family: Helvetica; color: rgb(0, 0, 0); line-height: 1.2; pointer-events: all; white-space: normal; overflow-wrap: normal;\"><font style=\"font-size: 13px;\">product_code</font></div></div></div></foreignObject><text x=\"890\" y=\"559\" fill=\"rgb(0, 0, 0)\" font-family=\"Helvetica\" font-size=\"13px\" text-anchor=\"middle\">product_code</text></switch></g><rect x=\"940\" y=\"540\" width=\"100\" height=\"30\" fill=\"none\" stroke=\"none\" pointer-events=\"all\"/><path d=\"M 940 540 M 1040 540 M 1040 570 M 940 570\" fill=\"none\" stroke=\"rgb(0, 0, 0)\" stroke-linecap=\"square\" stroke-miterlimit=\"10\" pointer-events=\"all\"/><g transform=\"translate(-0.5 -0.5)\"><switch><foreignObject pointer-events=\"none\" width=\"100%\" height=\"100%\" requiredFeatures=\"http://www.w3.org/TR/SVG11/feature#Extensibility\" style=\"overflow: visible; text-align: left;\"><div xmlns=\"http://www.w3.org/1999/xhtml\" style=\"display: flex; align-items: unsafe center; justify-content: unsafe flex-start; width: 92px; height: 1px; padding-top: 555px; margin-left: 948px;\"><div data-drawio-colors=\"color: rgb(0, 0, 0); \" style=\"box-sizing: border-box; font-size: 0px; text-align: left; max-height: 26px; overflow: hidden;\"><div style=\"display: inline-block; font-size: 13px; font-family: Helvetica; color: rgb(0, 0, 0); line-height: 1.2; pointer-events: all; white-space: normal; overflow-wrap: normal;\"><span style=\"font-size: 13px;\">STRING</span></div></div></div></foreignObject><text x=\"948\" y=\"559\" fill=\"rgb(0, 0, 0)\" font-family=\"Helvetica\" font-size=\"13px\">STRING</text></switch></g><rect x=\"840\" y=\"570\" width=\"100\" height=\"30\" fill=\"none\" stroke=\"none\" pointer-events=\"all\"/><path d=\"M 840 570 M 940 570 M 940 600 M 840 600\" fill=\"none\" stroke=\"rgb(0, 0, 0)\" stroke-linecap=\"square\" stroke-miterlimit=\"10\" pointer-events=\"all\"/><g transform=\"translate(-0.5 -0.5)\"><switch><foreignObject pointer-events=\"none\" width=\"100%\" height=\"100%\" requiredFeatures=\"http://www.w3.org/TR/SVG11/feature#Extensibility\" style=\"overflow: visible; text-align: left;\"><div xmlns=\"http://www.w3.org/1999/xhtml\" style=\"display: flex; align-items: unsafe center; justify-content: unsafe center; width: 98px; height: 1px; padding-top: 585px; margin-left: 841px;\"><div data-drawio-colors=\"color: rgb(0, 0, 0); \" style=\"box-sizing: border-box; font-size: 0px; text-align: center; max-height: 26px; overflow: hidden;\"><div style=\"display: inline-block; font-size: 13px; font-family: Helvetica; color: rgb(0, 0, 0); line-height: 1.2; pointer-events: all; white-space: normal; overflow-wrap: normal;\"><font style=\"font-size: 13px;\">product_type<br style=\"font-size: 13px;\"/></font></div></div></div></foreignObject><text x=\"890\" y=\"589\" fill=\"rgb(0, 0, 0)\" font-family=\"Helvetica\" font-size=\"13px\" text-anchor=\"middle\">product_type\n</text></switch></g><rect x=\"940\" y=\"570\" width=\"100\" height=\"30\" fill=\"none\" stroke=\"none\" pointer-events=\"all\"/><path d=\"M 940 570 M 1040 570 M 1040 600 M 940 600\" fill=\"none\" stroke=\"rgb(0, 0, 0)\" stroke-linecap=\"square\" stroke-miterlimit=\"10\" pointer-events=\"all\"/><g transform=\"translate(-0.5 -0.5)\"><switch><foreignObject pointer-events=\"none\" width=\"100%\" height=\"100%\" requiredFeatures=\"http://www.w3.org/TR/SVG11/feature#Extensibility\" style=\"overflow: visible; text-align: left;\"><div xmlns=\"http://www.w3.org/1999/xhtml\" style=\"display: flex; align-items: unsafe center; justify-content: unsafe flex-start; width: 92px; height: 1px; padding-top: 585px; margin-left: 948px;\"><div data-drawio-colors=\"color: rgb(0, 0, 0); \" style=\"box-sizing: border-box; font-size: 0px; text-align: left; max-height: 26px; overflow: hidden;\"><div style=\"display: inline-block; font-size: 13px; font-family: Helvetica; color: rgb(0, 0, 0); line-height: 1.2; pointer-events: all; white-space: normal; overflow-wrap: normal;\"><font style=\"font-size: 13px;\">STRING</font></div></div></div></foreignObject><text x=\"948\" y=\"589\" fill=\"rgb(0, 0, 0)\" font-family=\"Helvetica\" font-size=\"13px\">STRING</text></switch></g><rect x=\"840\" y=\"600\" width=\"100\" height=\"30\" fill=\"none\" stroke=\"none\" pointer-events=\"all\"/><path d=\"M 840 600 M 940 600 M 940 630 M 840 630\" fill=\"none\" stroke=\"rgb(0, 0, 0)\" stroke-linecap=\"square\" stroke-miterlimit=\"10\" pointer-events=\"all\"/><g transform=\"translate(-0.5 -0.5)\"><switch><foreignObject pointer-events=\"none\" width=\"100%\" height=\"100%\" requiredFeatures=\"http://www.w3.org/TR/SVG11/feature#Extensibility\" style=\"overflow: visible; text-align: left;\"><div xmlns=\"http://www.w3.org/1999/xhtml\" style=\"display: flex; align-items: unsafe center; justify-content: unsafe center; width: 98px; height: 1px; padding-top: 615px; margin-left: 841px;\"><div data-drawio-colors=\"color: rgb(0, 0, 0); \" style=\"box-sizing: border-box; font-size: 0px; text-align: center; max-height: 26px; overflow: hidden;\"><div style=\"display: inline-block; font-size: 13px; font-family: Helvetica; color: rgb(0, 0, 0); line-height: 1.2; pointer-events: all; white-space: normal; overflow-wrap: normal;\">colour</div></div></div></foreignObject><text x=\"890\" y=\"619\" fill=\"rgb(0, 0, 0)\" font-family=\"Helvetica\" font-size=\"13px\" text-anchor=\"middle\">colour</text></switch></g><rect x=\"940\" y=\"600\" width=\"100\" height=\"30\" fill=\"none\" stroke=\"none\" pointer-events=\"all\"/><path d=\"M 940 600 M 1040 600 M 1040 630 M 940 630\" fill=\"none\" stroke=\"rgb(0, 0, 0)\" stroke-linecap=\"square\" stroke-miterlimit=\"10\" pointer-events=\"all\"/><g transform=\"translate(-0.5 -0.5)\"><switch><foreignObject pointer-events=\"none\" width=\"100%\" height=\"100%\" requiredFeatures=\"http://www.w3.org/TR/SVG11/feature#Extensibility\" style=\"overflow: visible; text-align: left;\"><div xmlns=\"http://www.w3.org/1999/xhtml\" style=\"display: flex; align-items: unsafe center; justify-content: unsafe flex-start; width: 92px; height: 1px; padding-top: 615px; margin-left: 948px;\"><div data-drawio-colors=\"color: rgb(0, 0, 0); \" style=\"box-sizing: border-box; font-size: 0px; text-align: left; max-height: 26px; overflow: hidden;\"><div style=\"display: inline-block; font-size: 13px; font-family: Helvetica; color: rgb(0, 0, 0); line-height: 1.2; pointer-events: all; white-space: normal; overflow-wrap: normal;\">STRING</div></div></div></foreignObject><text x=\"948\" y=\"619\" fill=\"rgb(0, 0, 0)\" font-family=\"Helvetica\" font-size=\"13px\">STRING</text></switch></g><rect x=\"840\" y=\"630\" width=\"100\" height=\"30\" fill=\"none\" stroke=\"none\" pointer-events=\"all\"/><path d=\"M 840 630 M 940 630 M 940 660 M 840 660\" fill=\"none\" stroke=\"rgb(0, 0, 0)\" stroke-linecap=\"square\" stroke-miterlimit=\"10\" pointer-events=\"all\"/><g transform=\"translate(-0.5 -0.5)\"><switch><foreignObject pointer-events=\"none\" width=\"100%\" height=\"100%\" requiredFeatures=\"http://www.w3.org/TR/SVG11/feature#Extensibility\" style=\"overflow: visible; text-align: left;\"><div xmlns=\"http://www.w3.org/1999/xhtml\" style=\"display: flex; align-items: unsafe center; justify-content: unsafe center; width: 98px; height: 1px; padding-top: 645px; margin-left: 841px;\"><div data-drawio-colors=\"color: rgb(0, 0, 0); \" style=\"box-sizing: border-box; font-size: 0px; text-align: center; max-height: 26px; overflow: hidden;\"><div style=\"display: inline-block; font-size: 13px; font-family: Helvetica; color: rgb(0, 0, 0); line-height: 1.2; pointer-events: all; white-space: normal; overflow-wrap: normal;\"><font style=\"font-size: 13px;\">size<br style=\"font-size: 13px;\"/></font></div></div></div></foreignObject><text x=\"890\" y=\"649\" fill=\"rgb(0, 0, 0)\" font-family=\"Helvetica\" font-size=\"13px\" text-anchor=\"middle\">size\n</text></switch></g><rect x=\"940\" y=\"630\" width=\"100\" height=\"30\" fill=\"none\" stroke=\"none\" pointer-events=\"all\"/><path d=\"M 940 630 M 1040 630 M 1040 660 M 940 660\" fill=\"none\" stroke=\"rgb(0, 0, 0)\" stroke-linecap=\"square\" stroke-miterlimit=\"10\" pointer-events=\"all\"/><g transform=\"translate(-0.5 -0.5)\"><switch><foreignObject pointer-events=\"none\" width=\"100%\" height=\"100%\" requiredFeatures=\"http://www.w3.org/TR/SVG11/feature#Extensibility\" style=\"overflow: visible; text-align: left;\"><div xmlns=\"http://www.w3.org/1999/xhtml\" style=\"display: flex; align-items: unsafe center; justify-content: unsafe flex-start; width: 92px; height: 1px; padding-top: 645px; margin-left: 948px;\"><div data-drawio-colors=\"color: rgb(0, 0, 0); \" style=\"box-sizing: border-box; font-size: 0px; text-align: left; max-height: 26px; overflow: hidden;\"><div style=\"display: inline-block; font-size: 13px; font-family: Helvetica; color: rgb(0, 0, 0); line-height: 1.2; pointer-events: all; white-space: normal; overflow-wrap: normal;\"><font style=\"font-size: 13px;\">STRING</font></div></div></div></foreignObject><text x=\"948\" y=\"649\" fill=\"rgb(0, 0, 0)\" font-family=\"Helvetica\" font-size=\"13px\">STRING</text></switch></g><rect x=\"840\" y=\"660\" width=\"100\" height=\"30\" fill=\"none\" stroke=\"none\" pointer-events=\"all\"/><path d=\"M 840 660 M 940 660 M 940 690 M 840 690\" fill=\"none\" stroke=\"rgb(0, 0, 0)\" stroke-linecap=\"square\" stroke-miterlimit=\"10\" pointer-events=\"all\"/><g transform=\"translate(-0.5 -0.5)\"><switch><foreignObject pointer-events=\"none\" width=\"100%\" height=\"100%\" requiredFeatures=\"http://www.w3.org/TR/SVG11/feature#Extensibility\" style=\"overflow: visible; text-align: left;\"><div xmlns=\"http://www.w3.org/1999/xhtml\" style=\"display: flex; align-items: unsafe center; justify-content: unsafe center; width: 98px; height: 1px; padding-top: 675px; margin-left: 841px;\"><div data-drawio-colors=\"color: rgb(0, 0, 0); \" style=\"box-sizing: border-box; font-size: 0px; text-align: center; max-height: 26px; overflow: hidden;\"><div style=\"display: inline-block; font-size: 13px; font-family: Helvetica; color: rgb(0, 0, 0); line-height: 1.2; pointer-events: all; white-space: normal; overflow-wrap: normal;\"><font style=\"font-size: 13px;\">material<br style=\"font-size: 13px;\"/></font></div></div></div></foreignObject><text x=\"890\" y=\"679\" fill=\"rgb(0, 0, 0)\" font-family=\"Helvetica\" font-size=\"13px\" text-anchor=\"middle\">material\n</text></switch></g><rect x=\"940\" y=\"660\" width=\"100\" height=\"30\" fill=\"none\" stroke=\"none\" pointer-events=\"all\"/><path d=\"M 940 660 M 1040 660 M 1040 690 M 940 690\" fill=\"none\" stroke=\"rgb(0, 0, 0)\" stroke-linecap=\"square\" stroke-miterlimit=\"10\" pointer-events=\"all\"/><g transform=\"translate(-0.5 -0.5)\"><switch><foreignObject pointer-events=\"none\" width=\"100%\" height=\"100%\" requiredFeatures=\"http://www.w3.org/TR/SVG11/feature#Extensibility\" style=\"overflow: visible; text-align: left;\"><div xmlns=\"http://www.w3.org/1999/xhtml\" style=\"display: flex; align-items: unsafe center; justify-content: unsafe flex-start; width: 92px; height: 1px; padding-top: 675px; margin-left: 948px;\"><div data-drawio-colors=\"color: rgb(0, 0, 0); \" style=\"box-sizing: border-box; font-size: 0px; text-align: left; max-height: 26px; overflow: hidden;\"><div style=\"display: inline-block; font-size: 13px; font-family: Helvetica; color: rgb(0, 0, 0); line-height: 1.2; pointer-events: all; white-space: normal; overflow-wrap: normal;\"><font style=\"font-size: 13px;\">STRING</font></div></div></div></foreignObject><text x=\"948\" y=\"679\" fill=\"rgb(0, 0, 0)\" font-family=\"Helvetica\" font-size=\"13px\">STRING</text></switch></g><rect x=\"840\" y=\"690\" width=\"100\" height=\"30\" fill=\"none\" stroke=\"none\" pointer-events=\"all\"/><path d=\"M 840 690 M 940 690 M 940 720 M 840 720\" fill=\"none\" stroke=\"rgb(0, 0, 0)\" stroke-linecap=\"square\" stroke-miterlimit=\"10\" pointer-events=\"all\"/><g transform=\"translate(-0.5 -0.5)\"><switch><foreignObject pointer-events=\"none\" width=\"100%\" height=\"100%\" requiredFeatures=\"http://www.w3.org/TR/SVG11/feature#Extensibility\" style=\"overflow: visible; text-align: left;\"><div xmlns=\"http://www.w3.org/1999/xhtml\" style=\"display: flex; align-items: unsafe center; justify-content: unsafe center; width: 98px; height: 1px; padding-top: 705px; margin-left: 841px;\"><div data-drawio-colors=\"color: rgb(0, 0, 0); \" style=\"box-sizing: border-box; font-size: 0px; text-align: center; max-height: 26px; overflow: hidden;\"><div style=\"display: inline-block; font-size: 13px; font-family: Helvetica; color: rgb(0, 0, 0); line-height: 1.2; pointer-events: all; white-space: normal; overflow-wrap: normal;\"><font style=\"font-size: 13px;\">unit_price<br style=\"font-size: 13px;\"/></font></div></div></div></foreignObject><text x=\"890\" y=\"709\" fill=\"rgb(0, 0, 0)\" font-family=\"Helvetica\" font-size=\"13px\" text-anchor=\"middle\">unit_price\n</text></switch></g><rect x=\"940\" y=\"690\" width=\"100\" height=\"30\" fill=\"none\" stroke=\"none\" pointer-events=\"all\"/><path d=\"M 940 690 M 1040 690 M 1040 720 M 940 720\" fill=\"none\" stroke=\"rgb(0, 0, 0)\" stroke-linecap=\"square\" stroke-miterlimit=\"10\" pointer-events=\"all\"/><g transform=\"translate(-0.5 -0.5)\"><switch><foreignObject pointer-events=\"none\" width=\"100%\" height=\"100%\" requiredFeatures=\"http://www.w3.org/TR/SVG11/feature#Extensibility\" style=\"overflow: visible; text-align: left;\"><div xmlns=\"http://www.w3.org/1999/xhtml\" style=\"display: flex; align-items: unsafe center; justify-content: unsafe flex-start; width: 92px; height: 1px; padding-top: 705px; margin-left: 948px;\"><div data-drawio-colors=\"color: rgb(0, 0, 0); \" style=\"box-sizing: border-box; font-size: 0px; text-align: left; max-height: 26px; overflow: hidden;\"><div style=\"display: inline-block; font-size: 13px; font-family: Helvetica; color: rgb(0, 0, 0); line-height: 1.2; pointer-events: all; white-space: normal; overflow-wrap: normal;\">INTEGER</div></div></div></foreignObject><text x=\"948\" y=\"709\" fill=\"rgb(0, 0, 0)\" font-family=\"Helvetica\" font-size=\"13px\">INTEGER</text></switch></g><path d=\"M 1040 525 L 1120 465\" fill=\"none\" stroke=\"rgb(0, 0, 0)\" stroke-miterlimit=\"10\" pointer-events=\"stroke\"/><path d=\"M 1600 120 L 1600 103.5 Q 1600 90 1586.5 90 L 1413.5 90 Q 1400 90 1400 103.5 L 1400 120\" fill=\"#cadae6\" stroke=\"rgb(0, 0, 0)\" stroke-miterlimit=\"10\" pointer-events=\"all\"/><path d=\"M 1400 120 L 1400 226.5 Q 1400 240 1413.5 240 L 1586.5 240 Q 1600 240 1600 226.5 L 1600 120\" fill=\"none\" stroke=\"rgb(0, 0, 0)\" stroke-miterlimit=\"10\" pointer-events=\"none\"/><path d=\"M 1400 120 L 1600 120\" fill=\"none\" stroke=\"rgb(0, 0, 0)\" stroke-miterlimit=\"10\" pointer-events=\"none\"/><path d=\"M 1500 120 L 1500 150 L 1500 180 L 1500 210 L 1500 240\" fill=\"none\" stroke=\"rgb(0, 0, 0)\" stroke-miterlimit=\"10\" pointer-events=\"none\"/><g fill=\"rgb(0, 0, 0)\" font-family=\"Helvetica\" font-weight=\"bold\" text-anchor=\"middle\" font-size=\"13px\"><text x=\"1499.5\" y=\"110\">DimSupplier</text></g><rect x=\"1400\" y=\"120\" width=\"100\" height=\"30\" fill=\"none\" stroke=\"none\" pointer-events=\"all\"/><path d=\"M 1400 120 M 1500 120 M 1500 150 M 1400 150\" fill=\"none\" stroke=\"rgb(0, 0, 0)\" stroke-linecap=\"square\" stroke-miterlimit=\"10\" pointer-events=\"all\"/><g transform=\"translate(-0.5 -0.5)\"><switch><foreignObject pointer-events=\"none\" width=\"100%\" height=\"100%\" requiredFeatures=\"http://www.w3.org/TR/SVG11/feature#Extensibility\" style=\"overflow: visible; text-align: left;\"><div xmlns=\"http://www.w3.org/1999/xhtml\" style=\"display: flex; align-items: unsafe center; justify-content: unsafe center; width: 98px; height: 1px; padding-top: 135px; margin-left: 1401px;\"><div data-drawio-colors=\"color: rgb(0, 0, 0); \" style=\"box-sizing: border-box; font-size: 0px; text-align: center; max-height: 26px; overflow: hidden;\"><div style=\"display: inline-block; font-size: 13px; font-family: Helvetica; color: rgb(0, 0, 0); line-height: 1.2; pointer-events: all; white-space: normal; overflow-wrap: normal;\"><font style=\"font-size: 13px;\">supplier_id</font></div></div></div></foreignObject><text x=\"1450\" y=\"139\" fill=\"rgb(0, 0, 0)\" font-family=\"Helvetica\" font-size=\"13px\" text-anchor=\"middle\">supplier_id</text></switch></g><rect x=\"1500\" y=\"120\" width=\"100\" height=\"30\" fill=\"none\" stroke=\"none\" pointer-events=\"all\"/><path d=\"M 1500 120 M 1600 120 M 1600 150 M 1500 150\" fill=\"none\" stroke=\"rgb(0, 0, 0)\" stroke-linecap=\"square\" stroke-miterlimit=\"10\" pointer-events=\"all\"/><g transform=\"translate(-0.5 -0.5)\"><switch><foreignObject pointer-events=\"none\" width=\"100%\" height=\"100%\" requiredFeatures=\"http://www.w3.org/TR/SVG11/feature#Extensibility\" style=\"overflow: visible; text-align: left;\"><div xmlns=\"http://www.w3.org/1999/xhtml\" style=\"display: flex; align-items: unsafe center; justify-content: unsafe flex-start; width: 92px; height: 1px; padding-top: 135px; margin-left: 1508px;\"><div data-drawio-colors=\"color: rgb(0, 0, 0); \" style=\"box-sizing: border-box; font-size: 0px; text-align: left; max-height: 26px; overflow: hidden;\"><div style=\"display: inline-block; font-size: 13px; font-family: Helvetica; color: rgb(0, 0, 0); line-height: 1.2; pointer-events: all; white-space: normal; overflow-wrap: normal;\"><font style=\"font-size: 13px;\">INTEGER</font></div></div></div></foreignObject><text x=\"1508\" y=\"139\" fill=\"rgb(0, 0, 0)\" font-family=\"Helvetica\" font-size=\"13px\">INTEGER</text></switch></g><rect x=\"1400\" y=\"150\" width=\"100\" height=\"30\" fill=\"none\" stroke=\"none\" pointer-events=\"all\"/><path d=\"M 1400 150 M 1500 150 M 1500 180 M 1400 180\" fill=\"none\" stroke=\"rgb(0, 0, 0)\" stroke-linecap=\"square\" stroke-miterlimit=\"10\" pointer-events=\"all\"/><g transform=\"translate(-0.5 -0.5)\"><switch><foreignObject pointer-events=\"none\" width=\"100%\" height=\"100%\" requiredFeatures=\"http://www.w3.org/TR/SVG11/feature#Extensibility\" style=\"overflow: visible; text-align: left;\"><div xmlns=\"http://www.w3.org/1999/xhtml\" style=\"display: flex; align-items: unsafe center; justify-content: unsafe center; width: 98px; height: 1px; padding-top: 165px; margin-left: 1401px;\"><div data-drawio-colors=\"color: rgb(0, 0, 0); \" style=\"box-sizing: border-box; font-size: 0px; text-align: center; max-height: 26px; overflow: hidden;\"><div style=\"display: inline-block; font-size: 13px; font-family: Helvetica; color: rgb(0, 0, 0); line-height: 1.2; pointer-events: all; white-space: normal; overflow-wrap: normal;\">city_id</div></div></div></foreignObject><text x=\"1450\" y=\"169\" fill=\"rgb(0, 0, 0)\" font-family=\"Helvetica\" font-size=\"13px\" text-anchor=\"middle\">city_id</text></switch></g><rect x=\"1500\" y=\"150\" width=\"100\" height=\"30\" fill=\"none\" stroke=\"none\" pointer-events=\"all\"/><path d=\"M 1500 150 M 1600 150 M 1600 180 M 1500 180\" fill=\"none\" stroke=\"rgb(0, 0, 0)\" stroke-linecap=\"square\" stroke-miterlimit=\"10\" pointer-events=\"all\"/><g transform=\"translate(-0.5 -0.5)\"><switch><foreignObject pointer-events=\"none\" width=\"100%\" height=\"100%\" requiredFeatures=\"http://www.w3.org/TR/SVG11/feature#Extensibility\" style=\"overflow: visible; text-align: left;\"><div xmlns=\"http://www.w3.org/1999/xhtml\" style=\"display: flex; align-items: unsafe center; justify-content: unsafe flex-start; width: 92px; height: 1px; padding-top: 165px; margin-left: 1508px;\"><div data-drawio-colors=\"color: rgb(0, 0, 0); \" style=\"box-sizing: border-box; font-size: 0px; text-align: left; max-height: 26px; overflow: hidden;\"><div style=\"display: inline-block; font-size: 13px; font-family: Helvetica; color: rgb(0, 0, 0); line-height: 1.2; pointer-events: all; white-space: normal; overflow-wrap: normal;\">INTEGER</div></div></div></foreignObject><text x=\"1508\" y=\"169\" fill=\"rgb(0, 0, 0)\" font-family=\"Helvetica\" font-size=\"13px\">INTEGER</text></switch></g><rect x=\"1400\" y=\"180\" width=\"100\" height=\"30\" fill=\"none\" stroke=\"none\" pointer-events=\"all\"/><path d=\"M 1400 180 M 1500 180 M 1500 210 M 1400 210\" fill=\"none\" stroke=\"rgb(0, 0, 0)\" stroke-linecap=\"square\" stroke-miterlimit=\"10\" pointer-events=\"all\"/><g transform=\"translate(-0.5 -0.5)\"><switch><foreignObject pointer-events=\"none\" width=\"100%\" height=\"100%\" requiredFeatures=\"http://www.w3.org/TR/SVG11/feature#Extensibility\" style=\"overflow: visible; text-align: left;\"><div xmlns=\"http://www.w3.org/1999/xhtml\" style=\"display: flex; align-items: unsafe center; justify-content: unsafe center; width: 98px; height: 1px; padding-top: 195px; margin-left: 1401px;\"><div data-drawio-colors=\"color: rgb(0, 0, 0); \" style=\"box-sizing: border-box; font-size: 0px; text-align: center; max-height: 26px; overflow: hidden;\"><div style=\"display: inline-block; font-size: 13px; font-family: Helvetica; color: rgb(0, 0, 0); line-height: 1.2; pointer-events: all; white-space: normal; overflow-wrap: normal;\"><font style=\"font-size: 13px;\">sup_name</font></div></div></div></foreignObject><text x=\"1450\" y=\"199\" fill=\"rgb(0, 0, 0)\" font-family=\"Helvetica\" font-size=\"13px\" text-anchor=\"middle\">sup_name</text></switch></g><rect x=\"1500\" y=\"180\" width=\"100\" height=\"30\" fill=\"none\" stroke=\"none\" pointer-events=\"all\"/><path d=\"M 1500 180 M 1600 180 M 1600 210 M 1500 210\" fill=\"none\" stroke=\"rgb(0, 0, 0)\" stroke-linecap=\"square\" stroke-miterlimit=\"10\" pointer-events=\"all\"/><g transform=\"translate(-0.5 -0.5)\"><switch><foreignObject pointer-events=\"none\" width=\"100%\" height=\"100%\" requiredFeatures=\"http://www.w3.org/TR/SVG11/feature#Extensibility\" style=\"overflow: visible; text-align: left;\"><div xmlns=\"http://www.w3.org/1999/xhtml\" style=\"display: flex; align-items: unsafe center; justify-content: unsafe flex-start; width: 92px; height: 1px; padding-top: 195px; margin-left: 1508px;\"><div data-drawio-colors=\"color: rgb(0, 0, 0); \" style=\"box-sizing: border-box; font-size: 0px; text-align: left; max-height: 26px; overflow: hidden;\"><div style=\"display: inline-block; font-size: 13px; font-family: Helvetica; color: rgb(0, 0, 0); line-height: 1.2; pointer-events: all; white-space: normal; overflow-wrap: normal;\"><span style=\"font-size: 13px;\">STRING</span></div></div></div></foreignObject><text x=\"1508\" y=\"199\" fill=\"rgb(0, 0, 0)\" font-family=\"Helvetica\" font-size=\"13px\">STRING</text></switch></g><rect x=\"1400\" y=\"210\" width=\"100\" height=\"30\" fill=\"none\" stroke=\"none\" pointer-events=\"all\"/><path d=\"M 1400 210 M 1500 210 M 1500 240 M 1400 240\" fill=\"none\" stroke=\"rgb(0, 0, 0)\" stroke-linecap=\"square\" stroke-miterlimit=\"10\" pointer-events=\"all\"/><g transform=\"translate(-0.5 -0.5)\"><switch><foreignObject pointer-events=\"none\" width=\"100%\" height=\"100%\" requiredFeatures=\"http://www.w3.org/TR/SVG11/feature#Extensibility\" style=\"overflow: visible; text-align: left;\"><div xmlns=\"http://www.w3.org/1999/xhtml\" style=\"display: flex; align-items: unsafe center; justify-content: unsafe center; width: 98px; height: 1px; padding-top: 225px; margin-left: 1401px;\"><div data-drawio-colors=\"color: rgb(0, 0, 0); \" style=\"box-sizing: border-box; font-size: 0px; text-align: center; max-height: 26px; overflow: hidden;\"><div style=\"display: inline-block; font-size: 13px; font-family: Helvetica; color: rgb(0, 0, 0); line-height: 1.2; pointer-events: all; white-space: normal; overflow-wrap: normal;\"><font style=\"font-size: 13px;\">sup_type<br style=\"font-size: 13px;\"/></font></div></div></div></foreignObject><text x=\"1450\" y=\"229\" fill=\"rgb(0, 0, 0)\" font-family=\"Helvetica\" font-size=\"13px\" text-anchor=\"middle\">sup_type\n</text></switch></g><rect x=\"1500\" y=\"210\" width=\"100\" height=\"30\" fill=\"none\" stroke=\"none\" pointer-events=\"all\"/><path d=\"M 1500 210 M 1600 210 M 1600 240 M 1500 240\" fill=\"none\" stroke=\"rgb(0, 0, 0)\" stroke-linecap=\"square\" stroke-miterlimit=\"10\" pointer-events=\"all\"/><g transform=\"translate(-0.5 -0.5)\"><switch><foreignObject pointer-events=\"none\" width=\"100%\" height=\"100%\" requiredFeatures=\"http://www.w3.org/TR/SVG11/feature#Extensibility\" style=\"overflow: visible; text-align: left;\"><div xmlns=\"http://www.w3.org/1999/xhtml\" style=\"display: flex; align-items: unsafe center; justify-content: unsafe flex-start; width: 92px; height: 1px; padding-top: 225px; margin-left: 1508px;\"><div data-drawio-colors=\"color: rgb(0, 0, 0); \" style=\"box-sizing: border-box; font-size: 0px; text-align: left; max-height: 26px; overflow: hidden;\"><div style=\"display: inline-block; font-size: 13px; font-family: Helvetica; color: rgb(0, 0, 0); line-height: 1.2; pointer-events: all; white-space: normal; overflow-wrap: normal;\"><font style=\"font-size: 13px;\">STRING</font></div></div></div></foreignObject><text x=\"1508\" y=\"229\" fill=\"rgb(0, 0, 0)\" font-family=\"Helvetica\" font-size=\"13px\">STRING</text></switch></g><path d=\"M 1040 60 L 1040 43.5 Q 1040 30 1026.5 30 L 853.5 30 Q 840 30 840 43.5 L 840 60\" fill=\"#cadae6\" stroke=\"rgb(0, 0, 0)\" stroke-miterlimit=\"10\" pointer-events=\"all\"/><path d=\"M 840 60 L 840 226.5 Q 840 240 853.5 240 L 1026.5 240 Q 1040 240 1040 226.5 L 1040 60\" fill=\"none\" stroke=\"rgb(0, 0, 0)\" stroke-miterlimit=\"10\" pointer-events=\"none\"/><path d=\"M 840 60 L 1040 60\" fill=\"none\" stroke=\"rgb(0, 0, 0)\" stroke-miterlimit=\"10\" pointer-events=\"none\"/><path d=\"M 940 60 L 940 90 L 940 120 L 940 150 L 940 180 L 940 210 L 940 240\" fill=\"none\" stroke=\"rgb(0, 0, 0)\" stroke-miterlimit=\"10\" pointer-events=\"none\"/><g fill=\"rgb(0, 0, 0)\" font-family=\"Helvetica\" font-weight=\"bold\" text-anchor=\"middle\" font-size=\"13px\"><text x=\"939.5\" y=\"50\">DimDate</text></g><rect x=\"840\" y=\"60\" width=\"100\" height=\"30\" fill=\"none\" stroke=\"none\" pointer-events=\"all\"/><path d=\"M 840 60 M 940 60 M 940 90 M 840 90\" fill=\"none\" stroke=\"rgb(0, 0, 0)\" stroke-linecap=\"square\" stroke-miterlimit=\"10\" pointer-events=\"all\"/><g transform=\"translate(-0.5 -0.5)\"><switch><foreignObject pointer-events=\"none\" width=\"100%\" height=\"100%\" requiredFeatures=\"http://www.w3.org/TR/SVG11/feature#Extensibility\" style=\"overflow: visible; text-align: left;\"><div xmlns=\"http://www.w3.org/1999/xhtml\" style=\"display: flex; align-items: unsafe center; justify-content: unsafe center; width: 98px; height: 1px; padding-top: 75px; margin-left: 841px;\"><div data-drawio-colors=\"color: rgb(0, 0, 0); \" style=\"box-sizing: border-box; font-size: 0px; text-align: center; max-height: 26px; overflow: hidden;\"><div style=\"display: inline-block; font-size: 13px; font-family: Helvetica; color: rgb(0, 0, 0); line-height: 1.2; pointer-events: all; white-space: normal; overflow-wrap: normal;\"><font style=\"font-size: 13px;\">date</font></div></div></div></foreignObject><text x=\"890\" y=\"79\" fill=\"rgb(0, 0, 0)\" font-family=\"Helvetica\" font-size=\"13px\" text-anchor=\"middle\">date</text></switch></g><rect x=\"940\" y=\"60\" width=\"100\" height=\"30\" fill=\"none\" stroke=\"none\" pointer-events=\"all\"/><path d=\"M 940 60 M 1040 60 M 1040 90 M 940 90\" fill=\"none\" stroke=\"rgb(0, 0, 0)\" stroke-linecap=\"square\" stroke-miterlimit=\"10\" pointer-events=\"all\"/><g transform=\"translate(-0.5 -0.5)\"><switch><foreignObject pointer-events=\"none\" width=\"100%\" height=\"100%\" requiredFeatures=\"http://www.w3.org/TR/SVG11/feature#Extensibility\" style=\"overflow: visible; text-align: left;\"><div xmlns=\"http://www.w3.org/1999/xhtml\" style=\"display: flex; align-items: unsafe center; justify-content: unsafe flex-start; width: 92px; height: 1px; padding-top: 75px; margin-left: 948px;\"><div data-drawio-colors=\"color: rgb(0, 0, 0); \" style=\"box-sizing: border-box; font-size: 0px; text-align: left; max-height: 26px; overflow: hidden;\"><div style=\"display: inline-block; font-size: 13px; font-family: Helvetica; color: rgb(0, 0, 0); line-height: 1.2; pointer-events: all; white-space: normal; overflow-wrap: normal;\"><font style=\"font-size: 13px;\">DATE</font></div></div></div></foreignObject><text x=\"948\" y=\"79\" fill=\"rgb(0, 0, 0)\" font-family=\"Helvetica\" font-size=\"13px\">DATE</text></switch></g><rect x=\"840\" y=\"90\" width=\"100\" height=\"30\" fill=\"none\" stroke=\"none\" pointer-events=\"all\"/><path d=\"M 840 90 M 940 90 M 940 120 M 840 120\" fill=\"none\" stroke=\"rgb(0, 0, 0)\" stroke-linecap=\"square\" stroke-miterlimit=\"10\" pointer-events=\"all\"/><g transform=\"translate(-0.5 -0.5)\"><switch><foreignObject pointer-events=\"none\" width=\"100%\" height=\"100%\" requiredFeatures=\"http://www.w3.org/TR/SVG11/feature#Extensibility\" style=\"overflow: visible; text-align: left;\"><div xmlns=\"http://www.w3.org/1999/xhtml\" style=\"display: flex; align-items: unsafe center; justify-content: unsafe center; width: 98px; height: 1px; padding-top: 105px; margin-left: 841px;\"><div data-drawio-colors=\"color: rgb(0, 0, 0); \" style=\"box-sizing: border-box; font-size: 0px; text-align: center; max-height: 26px; overflow: hidden;\"><div style=\"display: inline-block; font-size: 13px; font-family: Helvetica; color: rgb(0, 0, 0); line-height: 1.2; pointer-events: all; white-space: normal; overflow-wrap: normal;\"><font style=\"font-size: 13px;\">day</font></div></div></div></foreignObject><text x=\"890\" y=\"109\" fill=\"rgb(0, 0, 0)\" font-family=\"Helvetica\" font-size=\"13px\" text-anchor=\"middle\">day</text></switch></g><rect x=\"940\" y=\"90\" width=\"100\" height=\"30\" fill=\"none\" stroke=\"none\" pointer-events=\"all\"/><path d=\"M 940 90 M 1040 90 M 1040 120 M 940 120\" fill=\"none\" stroke=\"rgb(0, 0, 0)\" stroke-linecap=\"square\" stroke-miterlimit=\"10\" pointer-events=\"all\"/><g transform=\"translate(-0.5 -0.5)\"><switch><foreignObject pointer-events=\"none\" width=\"100%\" height=\"100%\" requiredFeatures=\"http://www.w3.org/TR/SVG11/feature#Extensibility\" style=\"overflow: visible; text-align: left;\"><div xmlns=\"http://www.w3.org/1999/xhtml\" style=\"display: flex; align-items: unsafe center; justify-content: unsafe flex-start; width: 92px; height: 1px; padding-top: 105px; margin-left: 948px;\"><div data-drawio-colors=\"color: rgb(0, 0, 0); \" style=\"box-sizing: border-box; font-size: 0px; text-align: left; max-height: 26px; overflow: hidden;\"><div style=\"display: inline-block; font-size: 13px; font-family: Helvetica; color: rgb(0, 0, 0); line-height: 1.2; pointer-events: all; white-space: normal; overflow-wrap: normal;\"><span style=\"font-size: 13px;\">STRING</span></div></div></div></foreignObject><text x=\"948\" y=\"109\" fill=\"rgb(0, 0, 0)\" font-family=\"Helvetica\" font-size=\"13px\">STRING</text></switch></g><rect x=\"840\" y=\"120\" width=\"100\" height=\"30\" fill=\"none\" stroke=\"none\" pointer-events=\"all\"/><path d=\"M 840 120 M 940 120 M 940 150 M 840 150\" fill=\"none\" stroke=\"rgb(0, 0, 0)\" stroke-linecap=\"square\" stroke-miterlimit=\"10\" pointer-events=\"all\"/><g transform=\"translate(-0.5 -0.5)\"><switch><foreignObject pointer-events=\"none\" width=\"100%\" height=\"100%\" requiredFeatures=\"http://www.w3.org/TR/SVG11/feature#Extensibility\" style=\"overflow: visible; text-align: left;\"><div xmlns=\"http://www.w3.org/1999/xhtml\" style=\"display: flex; align-items: unsafe center; justify-content: unsafe center; width: 98px; height: 1px; padding-top: 135px; margin-left: 841px;\"><div data-drawio-colors=\"color: rgb(0, 0, 0); \" style=\"box-sizing: border-box; font-size: 0px; text-align: center; max-height: 26px; overflow: hidden;\"><div style=\"display: inline-block; font-size: 13px; font-family: Helvetica; color: rgb(0, 0, 0); line-height: 1.2; pointer-events: all; white-space: normal; overflow-wrap: normal;\"><font style=\"font-size: 13px;\">week<br style=\"font-size: 13px;\"/></font></div></div></div></foreignObject><text x=\"890\" y=\"139\" fill=\"rgb(0, 0, 0)\" font-family=\"Helvetica\" font-size=\"13px\" text-anchor=\"middle\">week\n</text></switch></g><rect x=\"940\" y=\"120\" width=\"100\" height=\"30\" fill=\"none\" stroke=\"none\" pointer-events=\"all\"/><path d=\"M 940 120 M 1040 120 M 1040 150 M 940 150\" fill=\"none\" stroke=\"rgb(0, 0, 0)\" stroke-linecap=\"square\" stroke-miterlimit=\"10\" pointer-events=\"all\"/><g transform=\"translate(-0.5 -0.5)\"><switch><foreignObject pointer-events=\"none\" width=\"100%\" height=\"100%\" requiredFeatures=\"http://www.w3.org/TR/SVG11/feature#Extensibility\" style=\"overflow: visible; text-align: left;\"><div xmlns=\"http://www.w3.org/1999/xhtml\" style=\"display: flex; align-items: unsafe center; justify-content: unsafe flex-start; width: 92px; height: 1px; padding-top: 135px; margin-left: 948px;\"><div data-drawio-colors=\"color: rgb(0, 0, 0); \" style=\"box-sizing: border-box; font-size: 0px; text-align: left; max-height: 26px; overflow: hidden;\"><div style=\"display: inline-block; font-size: 13px; font-family: Helvetica; color: rgb(0, 0, 0); line-height: 1.2; pointer-events: all; white-space: normal; overflow-wrap: normal;\">INTEGER</div></div></div></foreignObject><text x=\"948\" y=\"139\" fill=\"rgb(0, 0, 0)\" font-family=\"Helvetica\" font-size=\"13px\">INTEGER</text></switch></g><rect x=\"840\" y=\"150\" width=\"100\" height=\"30\" fill=\"none\" stroke=\"none\" pointer-events=\"all\"/><path d=\"M 840 150 M 940 150 M 940 180 M 840 180\" fill=\"none\" stroke=\"rgb(0, 0, 0)\" stroke-linecap=\"square\" stroke-miterlimit=\"10\" pointer-events=\"all\"/><g transform=\"translate(-0.5 -0.5)\"><switch><foreignObject pointer-events=\"none\" width=\"100%\" height=\"100%\" requiredFeatures=\"http://www.w3.org/TR/SVG11/feature#Extensibility\" style=\"overflow: visible; text-align: left;\"><div xmlns=\"http://www.w3.org/1999/xhtml\" style=\"display: flex; align-items: unsafe center; justify-content: unsafe center; width: 98px; height: 1px; padding-top: 165px; margin-left: 841px;\"><div data-drawio-colors=\"color: rgb(0, 0, 0); \" style=\"box-sizing: border-box; font-size: 0px; text-align: center; max-height: 26px; overflow: hidden;\"><div style=\"display: inline-block; font-size: 13px; font-family: Helvetica; color: rgb(0, 0, 0); line-height: 1.2; pointer-events: all; white-space: normal; overflow-wrap: normal;\">month</div></div></div></foreignObject><text x=\"890\" y=\"169\" fill=\"rgb(0, 0, 0)\" font-family=\"Helvetica\" font-size=\"13px\" text-anchor=\"middle\">month</text></switch></g><rect x=\"940\" y=\"150\" width=\"100\" height=\"30\" fill=\"none\" stroke=\"none\" pointer-events=\"all\"/><path d=\"M 940 150 M 1040 150 M 1040 180 M 940 180\" fill=\"none\" stroke=\"rgb(0, 0, 0)\" stroke-linecap=\"square\" stroke-miterlimit=\"10\" pointer-events=\"all\"/><g transform=\"translate(-0.5 -0.5)\"><switch><foreignObject pointer-events=\"none\" width=\"100%\" height=\"100%\" requiredFeatures=\"http://www.w3.org/TR/SVG11/feature#Extensibility\" style=\"overflow: visible; text-align: left;\"><div xmlns=\"http://www.w3.org/1999/xhtml\" style=\"display: flex; align-items: unsafe center; justify-content: unsafe flex-start; width: 92px; height: 1px; padding-top: 165px; margin-left: 948px;\"><div data-drawio-colors=\"color: rgb(0, 0, 0); \" style=\"box-sizing: border-box; font-size: 0px; text-align: left; max-height: 26px; overflow: hidden;\"><div style=\"display: inline-block; font-size: 13px; font-family: Helvetica; color: rgb(0, 0, 0); line-height: 1.2; pointer-events: all; white-space: normal; overflow-wrap: normal;\">INTEGER</div></div></div></foreignObject><text x=\"948\" y=\"169\" fill=\"rgb(0, 0, 0)\" font-family=\"Helvetica\" font-size=\"13px\">INTEGER</text></switch></g><rect x=\"840\" y=\"180\" width=\"100\" height=\"30\" fill=\"none\" stroke=\"none\" pointer-events=\"all\"/><path d=\"M 840 180 M 940 180 M 940 210 M 840 210\" fill=\"none\" stroke=\"rgb(0, 0, 0)\" stroke-linecap=\"square\" stroke-miterlimit=\"10\" pointer-events=\"all\"/><g transform=\"translate(-0.5 -0.5)\"><switch><foreignObject pointer-events=\"none\" width=\"100%\" height=\"100%\" requiredFeatures=\"http://www.w3.org/TR/SVG11/feature#Extensibility\" style=\"overflow: visible; text-align: left;\"><div xmlns=\"http://www.w3.org/1999/xhtml\" style=\"display: flex; align-items: unsafe center; justify-content: unsafe center; width: 98px; height: 1px; padding-top: 195px; margin-left: 841px;\"><div data-drawio-colors=\"color: rgb(0, 0, 0); \" style=\"box-sizing: border-box; font-size: 0px; text-align: center; max-height: 26px; overflow: hidden;\"><div style=\"display: inline-block; font-size: 13px; font-family: Helvetica; color: rgb(0, 0, 0); line-height: 1.2; pointer-events: all; white-space: normal; overflow-wrap: normal;\"><font style=\"font-size: 13px;\">quarter<br style=\"font-size: 13px;\"/></font></div></div></div></foreignObject><text x=\"890\" y=\"199\" fill=\"rgb(0, 0, 0)\" font-family=\"Helvetica\" font-size=\"13px\" text-anchor=\"middle\">quarter\n</text></switch></g><rect x=\"940\" y=\"180\" width=\"100\" height=\"30\" fill=\"none\" stroke=\"none\" pointer-events=\"all\"/><path d=\"M 940 180 M 1040 180 M 1040 210 M 940 210\" fill=\"none\" stroke=\"rgb(0, 0, 0)\" stroke-linecap=\"square\" stroke-miterlimit=\"10\" pointer-events=\"all\"/><g transform=\"translate(-0.5 -0.5)\"><switch><foreignObject pointer-events=\"none\" width=\"100%\" height=\"100%\" requiredFeatures=\"http://www.w3.org/TR/SVG11/feature#Extensibility\" style=\"overflow: visible; text-align: left;\"><div xmlns=\"http://www.w3.org/1999/xhtml\" style=\"display: flex; align-items: unsafe center; justify-content: unsafe flex-start; width: 92px; height: 1px; padding-top: 195px; margin-left: 948px;\"><div data-drawio-colors=\"color: rgb(0, 0, 0); \" style=\"box-sizing: border-box; font-size: 0px; text-align: left; max-height: 26px; overflow: hidden;\"><div style=\"display: inline-block; font-size: 13px; font-family: Helvetica; color: rgb(0, 0, 0); line-height: 1.2; pointer-events: all; white-space: normal; overflow-wrap: normal;\"><font style=\"font-size: 13px;\">STRING</font></div></div></div></foreignObject><text x=\"948\" y=\"199\" fill=\"rgb(0, 0, 0)\" font-family=\"Helvetica\" font-size=\"13px\">STRING</text></switch></g><rect x=\"840\" y=\"210\" width=\"100\" height=\"30\" fill=\"none\" stroke=\"none\" pointer-events=\"all\"/><path d=\"M 840 210 M 940 210 M 940 240 M 840 240\" fill=\"none\" stroke=\"rgb(0, 0, 0)\" stroke-linecap=\"square\" stroke-miterlimit=\"10\" pointer-events=\"all\"/><g transform=\"translate(-0.5 -0.5)\"><switch><foreignObject pointer-events=\"none\" width=\"100%\" height=\"100%\" requiredFeatures=\"http://www.w3.org/TR/SVG11/feature#Extensibility\" style=\"overflow: visible; text-align: left;\"><div xmlns=\"http://www.w3.org/1999/xhtml\" style=\"display: flex; align-items: unsafe center; justify-content: unsafe center; width: 98px; height: 1px; padding-top: 225px; margin-left: 841px;\"><div data-drawio-colors=\"color: rgb(0, 0, 0); \" style=\"box-sizing: border-box; font-size: 0px; text-align: center; max-height: 26px; overflow: hidden;\"><div style=\"display: inline-block; font-size: 13px; font-family: Helvetica; color: rgb(0, 0, 0); line-height: 1.2; pointer-events: all; white-space: normal; overflow-wrap: normal;\"><font style=\"font-size: 13px;\">year<br style=\"font-size: 13px;\"/></font></div></div></div></foreignObject><text x=\"890\" y=\"229\" fill=\"rgb(0, 0, 0)\" font-family=\"Helvetica\" font-size=\"13px\" text-anchor=\"middle\">year\n</text></switch></g><rect x=\"940\" y=\"210\" width=\"100\" height=\"30\" fill=\"none\" stroke=\"none\" pointer-events=\"all\"/><path d=\"M 940 210 M 1040 210 M 1040 240 M 940 240\" fill=\"none\" stroke=\"rgb(0, 0, 0)\" stroke-linecap=\"square\" stroke-miterlimit=\"10\" pointer-events=\"all\"/><g transform=\"translate(-0.5 -0.5)\"><switch><foreignObject pointer-events=\"none\" width=\"100%\" height=\"100%\" requiredFeatures=\"http://www.w3.org/TR/SVG11/feature#Extensibility\" style=\"overflow: visible; text-align: left;\"><div xmlns=\"http://www.w3.org/1999/xhtml\" style=\"display: flex; align-items: unsafe center; justify-content: unsafe flex-start; width: 92px; height: 1px; padding-top: 225px; margin-left: 948px;\"><div data-drawio-colors=\"color: rgb(0, 0, 0); \" style=\"box-sizing: border-box; font-size: 0px; text-align: left; max-height: 26px; overflow: hidden;\"><div style=\"display: inline-block; font-size: 13px; font-family: Helvetica; color: rgb(0, 0, 0); line-height: 1.2; pointer-events: all; white-space: normal; overflow-wrap: normal;\">INTEGER</div></div></div></foreignObject><text x=\"948\" y=\"229\" fill=\"rgb(0, 0, 0)\" font-family=\"Helvetica\" font-size=\"13px\">INTEGER</text></switch></g><path d=\"M 760 270 L 760 253.5 Q 760 240 746.5 240 L 573.5 240 Q 560 240 560 253.5 L 560 270\" fill=\"#cce6b8\" stroke=\"rgb(0, 0, 0)\" stroke-miterlimit=\"10\" pointer-events=\"all\"/><path d=\"M 560 270 L 560 466.5 Q 560 480 573.5 480 L 746.5 480 Q 760 480 760 466.5 L 760 270\" fill=\"none\" stroke=\"rgb(0, 0, 0)\" stroke-miterlimit=\"10\" pointer-events=\"none\"/><path d=\"M 560 270 L 760 270\" fill=\"none\" stroke=\"rgb(0, 0, 0)\" stroke-miterlimit=\"10\" pointer-events=\"none\"/><path d=\"M 660 270 L 660 300 L 660 330 L 660 360 L 660 390 L 660 420 L 660 450 L 660 480\" fill=\"none\" stroke=\"rgb(0, 0, 0)\" stroke-miterlimit=\"10\" pointer-events=\"none\"/><g fill=\"rgb(0, 0, 0)\" font-family=\"Helvetica\" font-weight=\"bold\" text-anchor=\"middle\" font-size=\"13px\"><text x=\"659.5\" y=\"260\">FactSale</text></g><rect x=\"560\" y=\"270\" width=\"100\" height=\"30\" fill=\"none\" stroke=\"none\" pointer-events=\"all\"/><path d=\"M 560 270 M 660 270 M 660 300 M 560 300\" fill=\"none\" stroke=\"rgb(0, 0, 0)\" stroke-linecap=\"square\" stroke-miterlimit=\"10\" pointer-events=\"all\"/><g transform=\"translate(-0.5 -0.5)\"><switch><foreignObject pointer-events=\"none\" width=\"100%\" height=\"100%\" requiredFeatures=\"http://www.w3.org/TR/SVG11/feature#Extensibility\" style=\"overflow: visible; text-align: left;\"><div xmlns=\"http://www.w3.org/1999/xhtml\" style=\"display: flex; align-items: unsafe center; justify-content: unsafe center; width: 98px; height: 1px; padding-top: 285px; margin-left: 561px;\"><div data-drawio-colors=\"color: rgb(0, 0, 0); \" style=\"box-sizing: border-box; font-size: 0px; text-align: center; max-height: 26px; overflow: hidden;\"><div style=\"display: inline-block; font-size: 13px; font-family: Helvetica; color: rgb(0, 0, 0); line-height: 1.2; pointer-events: all; white-space: normal; overflow-wrap: normal;\"><font style=\"font-size: 13px;\">order_id</font></div></div></div></foreignObject><text x=\"610\" y=\"289\" fill=\"rgb(0, 0, 0)\" font-family=\"Helvetica\" font-size=\"13px\" text-anchor=\"middle\">order_id</text></switch></g><rect x=\"660\" y=\"270\" width=\"100\" height=\"30\" fill=\"none\" stroke=\"none\" pointer-events=\"all\"/><path d=\"M 660 270 M 760 270 M 760 300 M 660 300\" fill=\"none\" stroke=\"rgb(0, 0, 0)\" stroke-linecap=\"square\" stroke-miterlimit=\"10\" pointer-events=\"all\"/><g transform=\"translate(-0.5 -0.5)\"><switch><foreignObject pointer-events=\"none\" width=\"100%\" height=\"100%\" requiredFeatures=\"http://www.w3.org/TR/SVG11/feature#Extensibility\" style=\"overflow: visible; text-align: left;\"><div xmlns=\"http://www.w3.org/1999/xhtml\" style=\"display: flex; align-items: unsafe center; justify-content: unsafe flex-start; width: 92px; height: 1px; padding-top: 285px; margin-left: 668px;\"><div data-drawio-colors=\"color: rgb(0, 0, 0); \" style=\"box-sizing: border-box; font-size: 0px; text-align: left; max-height: 26px; overflow: hidden;\"><div style=\"display: inline-block; font-size: 13px; font-family: Helvetica; color: rgb(0, 0, 0); line-height: 1.2; pointer-events: all; white-space: normal; overflow-wrap: normal;\"><font style=\"font-size: 13px;\">INTEGER</font></div></div></div></foreignObject><text x=\"668\" y=\"289\" fill=\"rgb(0, 0, 0)\" font-family=\"Helvetica\" font-size=\"13px\">INTEGER</text></switch></g><rect x=\"560\" y=\"300\" width=\"100\" height=\"30\" fill=\"none\" stroke=\"none\" pointer-events=\"all\"/><path d=\"M 560 300 M 660 300 M 660 330 M 560 330\" fill=\"none\" stroke=\"rgb(0, 0, 0)\" stroke-linecap=\"square\" stroke-miterlimit=\"10\" pointer-events=\"all\"/><g transform=\"translate(-0.5 -0.5)\"><switch><foreignObject pointer-events=\"none\" width=\"100%\" height=\"100%\" requiredFeatures=\"http://www.w3.org/TR/SVG11/feature#Extensibility\" style=\"overflow: visible; text-align: left;\"><div xmlns=\"http://www.w3.org/1999/xhtml\" style=\"display: flex; align-items: unsafe center; justify-content: unsafe center; width: 98px; height: 1px; padding-top: 315px; margin-left: 561px;\"><div data-drawio-colors=\"color: rgb(0, 0, 0); \" style=\"box-sizing: border-box; font-size: 0px; text-align: center; max-height: 26px; overflow: hidden;\"><div style=\"display: inline-block; font-size: 13px; font-family: Helvetica; color: rgb(0, 0, 0); line-height: 1.2; pointer-events: all; white-space: normal; overflow-wrap: normal;\"><font style=\"font-size: 13px;\">product_id</font></div></div></div></foreignObject><text x=\"610\" y=\"319\" fill=\"rgb(0, 0, 0)\" font-family=\"Helvetica\" font-size=\"13px\" text-anchor=\"middle\">product_id</text></switch></g><rect x=\"660\" y=\"300\" width=\"100\" height=\"30\" fill=\"none\" stroke=\"none\" pointer-events=\"all\"/><path d=\"M 660 300 M 760 300 M 760 330 M 660 330\" fill=\"none\" stroke=\"rgb(0, 0, 0)\" stroke-linecap=\"square\" stroke-miterlimit=\"10\" pointer-events=\"all\"/><g transform=\"translate(-0.5 -0.5)\"><switch><foreignObject pointer-events=\"none\" width=\"100%\" height=\"100%\" requiredFeatures=\"http://www.w3.org/TR/SVG11/feature#Extensibility\" style=\"overflow: visible; text-align: left;\"><div xmlns=\"http://www.w3.org/1999/xhtml\" style=\"display: flex; align-items: unsafe center; justify-content: unsafe flex-start; width: 92px; height: 1px; padding-top: 315px; margin-left: 668px;\"><div data-drawio-colors=\"color: rgb(0, 0, 0); \" style=\"box-sizing: border-box; font-size: 0px; text-align: left; max-height: 26px; overflow: hidden;\"><div style=\"display: inline-block; font-size: 13px; font-family: Helvetica; color: rgb(0, 0, 0); line-height: 1.2; pointer-events: all; white-space: normal; overflow-wrap: normal;\">INTEGER</div></div></div></foreignObject><text x=\"668\" y=\"319\" fill=\"rgb(0, 0, 0)\" font-family=\"Helvetica\" font-size=\"13px\">INTEGER</text></switch></g><rect x=\"560\" y=\"330\" width=\"100\" height=\"30\" fill=\"none\" stroke=\"none\" pointer-events=\"all\"/><path d=\"M 560 330 M 660 330 M 660 360 M 560 360\" fill=\"none\" stroke=\"rgb(0, 0, 0)\" stroke-linecap=\"square\" stroke-miterlimit=\"10\" pointer-events=\"all\"/><g transform=\"translate(-0.5 -0.5)\"><switch><foreignObject pointer-events=\"none\" width=\"100%\" height=\"100%\" requiredFeatures=\"http://www.w3.org/TR/SVG11/feature#Extensibility\" style=\"overflow: visible; text-align: left;\"><div xmlns=\"http://www.w3.org/1999/xhtml\" style=\"display: flex; align-items: unsafe center; justify-content: unsafe center; width: 98px; height: 1px; padding-top: 345px; margin-left: 561px;\"><div data-drawio-colors=\"color: rgb(0, 0, 0); \" style=\"box-sizing: border-box; font-size: 0px; text-align: center; max-height: 26px; overflow: hidden;\"><div style=\"display: inline-block; font-size: 13px; font-family: Helvetica; color: rgb(0, 0, 0); line-height: 1.2; pointer-events: all; white-space: normal; overflow-wrap: normal;\"><font style=\"font-size: 13px;\">customer_id<br style=\"font-size: 13px;\"/></font></div></div></div></foreignObject><text x=\"610\" y=\"349\" fill=\"rgb(0, 0, 0)\" font-family=\"Helvetica\" font-size=\"13px\" text-anchor=\"middle\">customer_id\n</text></switch></g><rect x=\"660\" y=\"330\" width=\"100\" height=\"30\" fill=\"none\" stroke=\"none\" pointer-events=\"all\"/><path d=\"M 660 330 M 760 330 M 760 360 M 660 360\" fill=\"none\" stroke=\"rgb(0, 0, 0)\" stroke-linecap=\"square\" stroke-miterlimit=\"10\" pointer-events=\"all\"/><g transform=\"translate(-0.5 -0.5)\"><switch><foreignObject pointer-events=\"none\" width=\"100%\" height=\"100%\" requiredFeatures=\"http://www.w3.org/TR/SVG11/feature#Extensibility\" style=\"overflow: visible; text-align: left;\"><div xmlns=\"http://www.w3.org/1999/xhtml\" style=\"display: flex; align-items: unsafe center; justify-content: unsafe flex-start; width: 92px; height: 1px; padding-top: 345px; margin-left: 668px;\"><div data-drawio-colors=\"color: rgb(0, 0, 0); \" style=\"box-sizing: border-box; font-size: 0px; text-align: left; max-height: 26px; overflow: hidden;\"><div style=\"display: inline-block; font-size: 13px; font-family: Helvetica; color: rgb(0, 0, 0); line-height: 1.2; pointer-events: all; white-space: normal; overflow-wrap: normal;\">INTEGER</div></div></div></foreignObject><text x=\"668\" y=\"349\" fill=\"rgb(0, 0, 0)\" font-family=\"Helvetica\" font-size=\"13px\">INTEGER</text></switch></g><rect x=\"560\" y=\"360\" width=\"100\" height=\"30\" fill=\"none\" stroke=\"none\" pointer-events=\"all\"/><path d=\"M 560 360 M 660 360 M 660 390 M 560 390\" fill=\"none\" stroke=\"rgb(0, 0, 0)\" stroke-linecap=\"square\" stroke-miterlimit=\"10\" pointer-events=\"all\"/><g transform=\"translate(-0.5 -0.5)\"><switch><foreignObject pointer-events=\"none\" width=\"100%\" height=\"100%\" requiredFeatures=\"http://www.w3.org/TR/SVG11/feature#Extensibility\" style=\"overflow: visible; text-align: left;\"><div xmlns=\"http://www.w3.org/1999/xhtml\" style=\"display: flex; align-items: unsafe center; justify-content: unsafe center; width: 98px; height: 1px; padding-top: 375px; margin-left: 561px;\"><div data-drawio-colors=\"color: rgb(0, 0, 0); \" style=\"box-sizing: border-box; font-size: 0px; text-align: center; max-height: 26px; overflow: hidden;\"><div style=\"display: inline-block; font-size: 13px; font-family: Helvetica; color: rgb(0, 0, 0); line-height: 1.2; pointer-events: all; white-space: normal; overflow-wrap: normal;\">retailer_id</div></div></div></foreignObject><text x=\"610\" y=\"379\" fill=\"rgb(0, 0, 0)\" font-family=\"Helvetica\" font-size=\"13px\" text-anchor=\"middle\">retailer_id</text></switch></g><rect x=\"660\" y=\"360\" width=\"100\" height=\"30\" fill=\"none\" stroke=\"none\" pointer-events=\"all\"/><path d=\"M 660 360 M 760 360 M 760 390 M 660 390\" fill=\"none\" stroke=\"rgb(0, 0, 0)\" stroke-linecap=\"square\" stroke-miterlimit=\"10\" pointer-events=\"all\"/><g transform=\"translate(-0.5 -0.5)\"><switch><foreignObject pointer-events=\"none\" width=\"100%\" height=\"100%\" requiredFeatures=\"http://www.w3.org/TR/SVG11/feature#Extensibility\" style=\"overflow: visible; text-align: left;\"><div xmlns=\"http://www.w3.org/1999/xhtml\" style=\"display: flex; align-items: unsafe center; justify-content: unsafe flex-start; width: 92px; height: 1px; padding-top: 375px; margin-left: 668px;\"><div data-drawio-colors=\"color: rgb(0, 0, 0); \" style=\"box-sizing: border-box; font-size: 0px; text-align: left; max-height: 26px; overflow: hidden;\"><div style=\"display: inline-block; font-size: 13px; font-family: Helvetica; color: rgb(0, 0, 0); line-height: 1.2; pointer-events: all; white-space: normal; overflow-wrap: normal;\">INTEGER</div></div></div></foreignObject><text x=\"668\" y=\"379\" fill=\"rgb(0, 0, 0)\" font-family=\"Helvetica\" font-size=\"13px\">INTEGER</text></switch></g><rect x=\"560\" y=\"390\" width=\"100\" height=\"30\" fill=\"none\" stroke=\"none\" pointer-events=\"all\"/><path d=\"M 560 390 M 660 390 M 660 420 M 560 420\" fill=\"none\" stroke=\"rgb(0, 0, 0)\" stroke-linecap=\"square\" stroke-miterlimit=\"10\" pointer-events=\"all\"/><g transform=\"translate(-0.5 -0.5)\"><switch><foreignObject pointer-events=\"none\" width=\"100%\" height=\"100%\" requiredFeatures=\"http://www.w3.org/TR/SVG11/feature#Extensibility\" style=\"overflow: visible; text-align: left;\"><div xmlns=\"http://www.w3.org/1999/xhtml\" style=\"display: flex; align-items: unsafe center; justify-content: unsafe center; width: 98px; height: 1px; padding-top: 405px; margin-left: 561px;\"><div data-drawio-colors=\"color: rgb(0, 0, 0); \" style=\"box-sizing: border-box; font-size: 0px; text-align: center; max-height: 26px; overflow: hidden;\"><div style=\"display: inline-block; font-size: 13px; font-family: Helvetica; color: rgb(0, 0, 0); line-height: 1.2; pointer-events: all; white-space: normal; overflow-wrap: normal;\">quantity</div></div></div></foreignObject><text x=\"610\" y=\"409\" fill=\"rgb(0, 0, 0)\" font-family=\"Helvetica\" font-size=\"13px\" text-anchor=\"middle\">quantity</text></switch></g><rect x=\"660\" y=\"390\" width=\"100\" height=\"30\" fill=\"none\" stroke=\"none\" pointer-events=\"all\"/><path d=\"M 660 390 M 760 390 M 760 420 M 660 420\" fill=\"none\" stroke=\"rgb(0, 0, 0)\" stroke-linecap=\"square\" stroke-miterlimit=\"10\" pointer-events=\"all\"/><g transform=\"translate(-0.5 -0.5)\"><switch><foreignObject pointer-events=\"none\" width=\"100%\" height=\"100%\" requiredFeatures=\"http://www.w3.org/TR/SVG11/feature#Extensibility\" style=\"overflow: visible; text-align: left;\"><div xmlns=\"http://www.w3.org/1999/xhtml\" style=\"display: flex; align-items: unsafe center; justify-content: unsafe flex-start; width: 92px; height: 1px; padding-top: 405px; margin-left: 668px;\"><div data-drawio-colors=\"color: rgb(0, 0, 0); \" style=\"box-sizing: border-box; font-size: 0px; text-align: left; max-height: 26px; overflow: hidden;\"><div style=\"display: inline-block; font-size: 13px; font-family: Helvetica; color: rgb(0, 0, 0); line-height: 1.2; pointer-events: all; white-space: normal; overflow-wrap: normal;\">INTEGER</div></div></div></foreignObject><text x=\"668\" y=\"409\" fill=\"rgb(0, 0, 0)\" font-family=\"Helvetica\" font-size=\"13px\">INTEGER</text></switch></g><rect x=\"560\" y=\"420\" width=\"100\" height=\"30\" fill=\"none\" stroke=\"none\" pointer-events=\"all\"/><path d=\"M 560 420 M 660 420 M 660 450 M 560 450\" fill=\"none\" stroke=\"rgb(0, 0, 0)\" stroke-linecap=\"square\" stroke-miterlimit=\"10\" pointer-events=\"all\"/><g transform=\"translate(-0.5 -0.5)\"><switch><foreignObject pointer-events=\"none\" width=\"100%\" height=\"100%\" requiredFeatures=\"http://www.w3.org/TR/SVG11/feature#Extensibility\" style=\"overflow: visible; text-align: left;\"><div xmlns=\"http://www.w3.org/1999/xhtml\" style=\"display: flex; align-items: unsafe center; justify-content: unsafe center; width: 98px; height: 1px; padding-top: 435px; margin-left: 561px;\"><div data-drawio-colors=\"color: rgb(0, 0, 0); \" style=\"box-sizing: border-box; font-size: 0px; text-align: center; max-height: 26px; overflow: hidden;\"><div style=\"display: inline-block; font-size: 13px; font-family: Helvetica; color: rgb(0, 0, 0); line-height: 1.2; pointer-events: all; white-space: normal; overflow-wrap: normal;\"><font style=\"font-size: 13px;\">total_amt<br style=\"font-size: 13px;\"/></font></div></div></div></foreignObject><text x=\"610\" y=\"439\" fill=\"rgb(0, 0, 0)\" font-family=\"Helvetica\" font-size=\"13px\" text-anchor=\"middle\">total_amt\n</text></switch></g><rect x=\"660\" y=\"420\" width=\"100\" height=\"30\" fill=\"none\" stroke=\"none\" pointer-events=\"all\"/><path d=\"M 660 420 M 760 420 M 760 450 M 660 450\" fill=\"none\" stroke=\"rgb(0, 0, 0)\" stroke-linecap=\"square\" stroke-miterlimit=\"10\" pointer-events=\"all\"/><g transform=\"translate(-0.5 -0.5)\"><switch><foreignObject pointer-events=\"none\" width=\"100%\" height=\"100%\" requiredFeatures=\"http://www.w3.org/TR/SVG11/feature#Extensibility\" style=\"overflow: visible; text-align: left;\"><div xmlns=\"http://www.w3.org/1999/xhtml\" style=\"display: flex; align-items: unsafe center; justify-content: unsafe flex-start; width: 92px; height: 1px; padding-top: 435px; margin-left: 668px;\"><div data-drawio-colors=\"color: rgb(0, 0, 0); \" style=\"box-sizing: border-box; font-size: 0px; text-align: left; max-height: 26px; overflow: hidden;\"><div style=\"display: inline-block; font-size: 13px; font-family: Helvetica; color: rgb(0, 0, 0); line-height: 1.2; pointer-events: all; white-space: normal; overflow-wrap: normal;\">INTEGER</div></div></div></foreignObject><text x=\"668\" y=\"439\" fill=\"rgb(0, 0, 0)\" font-family=\"Helvetica\" font-size=\"13px\">INTEGER</text></switch></g><rect x=\"560\" y=\"450\" width=\"100\" height=\"30\" fill=\"none\" stroke=\"none\" pointer-events=\"all\"/><path d=\"M 560 450 M 660 450 M 660 480 M 560 480\" fill=\"none\" stroke=\"rgb(0, 0, 0)\" stroke-linecap=\"square\" stroke-miterlimit=\"10\" pointer-events=\"all\"/><g transform=\"translate(-0.5 -0.5)\"><switch><foreignObject pointer-events=\"none\" width=\"100%\" height=\"100%\" requiredFeatures=\"http://www.w3.org/TR/SVG11/feature#Extensibility\" style=\"overflow: visible; text-align: left;\"><div xmlns=\"http://www.w3.org/1999/xhtml\" style=\"display: flex; align-items: unsafe center; justify-content: unsafe center; width: 98px; height: 1px; padding-top: 465px; margin-left: 561px;\"><div data-drawio-colors=\"color: rgb(0, 0, 0); \" style=\"box-sizing: border-box; font-size: 0px; text-align: center; max-height: 26px; overflow: hidden;\"><div style=\"display: inline-block; font-size: 13px; font-family: Helvetica; color: rgb(0, 0, 0); line-height: 1.2; pointer-events: all; white-space: normal; overflow-wrap: normal;\"><font style=\"font-size: 13px;\">date<br style=\"font-size: 13px;\"/></font></div></div></div></foreignObject><text x=\"610\" y=\"469\" fill=\"rgb(0, 0, 0)\" font-family=\"Helvetica\" font-size=\"13px\" text-anchor=\"middle\">date\n</text></switch></g><rect x=\"660\" y=\"450\" width=\"100\" height=\"30\" fill=\"none\" stroke=\"none\" pointer-events=\"all\"/><path d=\"M 660 450 M 760 450 M 760 480 M 660 480\" fill=\"none\" stroke=\"rgb(0, 0, 0)\" stroke-linecap=\"square\" stroke-miterlimit=\"10\" pointer-events=\"all\"/><g transform=\"translate(-0.5 -0.5)\"><switch><foreignObject pointer-events=\"none\" width=\"100%\" height=\"100%\" requiredFeatures=\"http://www.w3.org/TR/SVG11/feature#Extensibility\" style=\"overflow: visible; text-align: left;\"><div xmlns=\"http://www.w3.org/1999/xhtml\" style=\"display: flex; align-items: unsafe center; justify-content: unsafe flex-start; width: 92px; height: 1px; padding-top: 465px; margin-left: 668px;\"><div data-drawio-colors=\"color: rgb(0, 0, 0); \" style=\"box-sizing: border-box; font-size: 0px; text-align: left; max-height: 26px; overflow: hidden;\"><div style=\"display: inline-block; font-size: 13px; font-family: Helvetica; color: rgb(0, 0, 0); line-height: 1.2; pointer-events: all; white-space: normal; overflow-wrap: normal;\"><font style=\"font-size: 13px;\">DATE</font></div></div></div></foreignObject><text x=\"668\" y=\"469\" fill=\"rgb(0, 0, 0)\" font-family=\"Helvetica\" font-size=\"13px\">DATE</text></switch></g><path d=\"M 480 515 L 560 465\" fill=\"none\" stroke=\"rgb(0, 0, 0)\" stroke-miterlimit=\"10\" pointer-events=\"stroke\"/><path d=\"M 480 500 L 480 483.5 Q 480 470 466.5 470 L 293.5 470 Q 280 470 280 483.5 L 280 500\" fill=\"#cadae6\" stroke=\"rgb(0, 0, 0)\" stroke-miterlimit=\"10\" pointer-events=\"all\"/><path d=\"M 280 500 L 280 726.5 Q 280 740 293.5 740 L 466.5 740 Q 480 740 480 726.5 L 480 500\" fill=\"none\" stroke=\"rgb(0, 0, 0)\" stroke-miterlimit=\"10\" pointer-events=\"none\"/><path d=\"M 280 500 L 480 500\" fill=\"none\" stroke=\"rgb(0, 0, 0)\" stroke-miterlimit=\"10\" pointer-events=\"none\"/><path d=\"M 380 500 L 380 530 L 380 560 L 380 590 L 380 620 L 380 650 L 380 680 L 380 710 L 380 740\" fill=\"none\" stroke=\"rgb(0, 0, 0)\" stroke-miterlimit=\"10\" pointer-events=\"none\"/><g fill=\"rgb(0, 0, 0)\" font-family=\"Helvetica\" font-weight=\"bold\" text-anchor=\"middle\" font-size=\"13px\"><text x=\"379.5\" y=\"490\">DimCustomer</text></g><rect x=\"280\" y=\"500\" width=\"100\" height=\"30\" fill=\"none\" stroke=\"none\" pointer-events=\"all\"/><path d=\"M 280 500 M 380 500 M 380 530 M 280 530\" fill=\"none\" stroke=\"rgb(0, 0, 0)\" stroke-linecap=\"square\" stroke-miterlimit=\"10\" pointer-events=\"all\"/><g transform=\"translate(-0.5 -0.5)\"><switch><foreignObject pointer-events=\"none\" width=\"100%\" height=\"100%\" requiredFeatures=\"http://www.w3.org/TR/SVG11/feature#Extensibility\" style=\"overflow: visible; text-align: left;\"><div xmlns=\"http://www.w3.org/1999/xhtml\" style=\"display: flex; align-items: unsafe center; justify-content: unsafe center; width: 98px; height: 1px; padding-top: 515px; margin-left: 281px;\"><div data-drawio-colors=\"color: rgb(0, 0, 0); \" style=\"box-sizing: border-box; font-size: 0px; text-align: center; max-height: 26px; overflow: hidden;\"><div style=\"display: inline-block; font-size: 13px; font-family: Helvetica; color: rgb(0, 0, 0); line-height: 1.2; pointer-events: all; white-space: normal; overflow-wrap: normal;\"><font style=\"font-size: 13px;\">customer_id</font></div></div></div></foreignObject><text x=\"330\" y=\"519\" fill=\"rgb(0, 0, 0)\" font-family=\"Helvetica\" font-size=\"13px\" text-anchor=\"middle\">customer_id</text></switch></g><rect x=\"380\" y=\"500\" width=\"100\" height=\"30\" fill=\"none\" stroke=\"none\" pointer-events=\"all\"/><path d=\"M 380 500 M 480 500 M 480 530 M 380 530\" fill=\"none\" stroke=\"rgb(0, 0, 0)\" stroke-linecap=\"square\" stroke-miterlimit=\"10\" pointer-events=\"all\"/><g transform=\"translate(-0.5 -0.5)\"><switch><foreignObject pointer-events=\"none\" width=\"100%\" height=\"100%\" requiredFeatures=\"http://www.w3.org/TR/SVG11/feature#Extensibility\" style=\"overflow: visible; text-align: left;\"><div xmlns=\"http://www.w3.org/1999/xhtml\" style=\"display: flex; align-items: unsafe center; justify-content: unsafe flex-start; width: 92px; height: 1px; padding-top: 515px; margin-left: 388px;\"><div data-drawio-colors=\"color: rgb(0, 0, 0); \" style=\"box-sizing: border-box; font-size: 0px; text-align: left; max-height: 26px; overflow: hidden;\"><div style=\"display: inline-block; font-size: 13px; font-family: Helvetica; color: rgb(0, 0, 0); line-height: 1.2; pointer-events: all; white-space: normal; overflow-wrap: normal;\"><font style=\"font-size: 13px;\">INT</font></div></div></div></foreignObject><text x=\"388\" y=\"519\" fill=\"rgb(0, 0, 0)\" font-family=\"Helvetica\" font-size=\"13px\">INT</text></switch></g><rect x=\"280\" y=\"530\" width=\"100\" height=\"30\" fill=\"none\" stroke=\"none\" pointer-events=\"all\"/><path d=\"M 280 530 M 380 530 M 380 560 M 280 560\" fill=\"none\" stroke=\"rgb(0, 0, 0)\" stroke-linecap=\"square\" stroke-miterlimit=\"10\" pointer-events=\"all\"/><g transform=\"translate(-0.5 -0.5)\"><switch><foreignObject pointer-events=\"none\" width=\"100%\" height=\"100%\" requiredFeatures=\"http://www.w3.org/TR/SVG11/feature#Extensibility\" style=\"overflow: visible; text-align: left;\"><div xmlns=\"http://www.w3.org/1999/xhtml\" style=\"display: flex; align-items: unsafe center; justify-content: unsafe center; width: 98px; height: 1px; padding-top: 545px; margin-left: 281px;\"><div data-drawio-colors=\"color: rgb(0, 0, 0); \" style=\"box-sizing: border-box; font-size: 0px; text-align: center; max-height: 26px; overflow: hidden;\"><div style=\"display: inline-block; font-size: 13px; font-family: Helvetica; color: rgb(0, 0, 0); line-height: 1.2; pointer-events: all; white-space: normal; overflow-wrap: normal;\"><font style=\"font-size: 13px;\">city_id<br style=\"font-size: 13px;\"/></font></div></div></div></foreignObject><text x=\"330\" y=\"549\" fill=\"rgb(0, 0, 0)\" font-family=\"Helvetica\" font-size=\"13px\" text-anchor=\"middle\">city_id\n</text></switch></g><rect x=\"380\" y=\"530\" width=\"100\" height=\"30\" fill=\"none\" stroke=\"none\" pointer-events=\"all\"/><path d=\"M 380 530 M 480 530 M 480 560 M 380 560\" fill=\"none\" stroke=\"rgb(0, 0, 0)\" stroke-linecap=\"square\" stroke-miterlimit=\"10\" pointer-events=\"all\"/><g transform=\"translate(-0.5 -0.5)\"><switch><foreignObject pointer-events=\"none\" width=\"100%\" height=\"100%\" requiredFeatures=\"http://www.w3.org/TR/SVG11/feature#Extensibility\" style=\"overflow: visible; text-align: left;\"><div xmlns=\"http://www.w3.org/1999/xhtml\" style=\"display: flex; align-items: unsafe center; justify-content: unsafe flex-start; width: 92px; height: 1px; padding-top: 545px; margin-left: 388px;\"><div data-drawio-colors=\"color: rgb(0, 0, 0); \" style=\"box-sizing: border-box; font-size: 0px; text-align: left; max-height: 26px; overflow: hidden;\"><div style=\"display: inline-block; font-size: 13px; font-family: Helvetica; color: rgb(0, 0, 0); line-height: 1.2; pointer-events: all; white-space: normal; overflow-wrap: normal;\"><font style=\"font-size: 13px;\">INT</font></div></div></div></foreignObject><text x=\"388\" y=\"549\" fill=\"rgb(0, 0, 0)\" font-family=\"Helvetica\" font-size=\"13px\">INT</text></switch></g><rect x=\"280\" y=\"560\" width=\"100\" height=\"30\" fill=\"none\" stroke=\"none\" pointer-events=\"all\"/><path d=\"M 280 560 M 380 560 M 380 590 M 280 590\" fill=\"none\" stroke=\"rgb(0, 0, 0)\" stroke-linecap=\"square\" stroke-miterlimit=\"10\" pointer-events=\"all\"/><g transform=\"translate(-0.5 -0.5)\"><switch><foreignObject pointer-events=\"none\" width=\"100%\" height=\"100%\" requiredFeatures=\"http://www.w3.org/TR/SVG11/feature#Extensibility\" style=\"overflow: visible; text-align: left;\"><div xmlns=\"http://www.w3.org/1999/xhtml\" style=\"display: flex; align-items: unsafe center; justify-content: unsafe center; width: 98px; height: 1px; padding-top: 575px; margin-left: 281px;\"><div data-drawio-colors=\"color: rgb(0, 0, 0); \" style=\"box-sizing: border-box; font-size: 0px; text-align: center; max-height: 26px; overflow: hidden;\"><div style=\"display: inline-block; font-size: 13px; font-family: Helvetica; color: rgb(0, 0, 0); line-height: 1.2; pointer-events: all; white-space: normal; overflow-wrap: normal;\">name</div></div></div></foreignObject><text x=\"330\" y=\"579\" fill=\"rgb(0, 0, 0)\" font-family=\"Helvetica\" font-size=\"13px\" text-anchor=\"middle\">name</text></switch></g><rect x=\"380\" y=\"560\" width=\"100\" height=\"30\" fill=\"none\" stroke=\"none\" pointer-events=\"all\"/><path d=\"M 380 560 M 480 560 M 480 590 M 380 590\" fill=\"none\" stroke=\"rgb(0, 0, 0)\" stroke-linecap=\"square\" stroke-miterlimit=\"10\" pointer-events=\"all\"/><g transform=\"translate(-0.5 -0.5)\"><switch><foreignObject pointer-events=\"none\" width=\"100%\" height=\"100%\" requiredFeatures=\"http://www.w3.org/TR/SVG11/feature#Extensibility\" style=\"overflow: visible; text-align: left;\"><div xmlns=\"http://www.w3.org/1999/xhtml\" style=\"display: flex; align-items: unsafe center; justify-content: unsafe flex-start; width: 92px; height: 1px; padding-top: 575px; margin-left: 388px;\"><div data-drawio-colors=\"color: rgb(0, 0, 0); \" style=\"box-sizing: border-box; font-size: 0px; text-align: left; max-height: 26px; overflow: hidden;\"><div style=\"display: inline-block; font-size: 13px; font-family: Helvetica; color: rgb(0, 0, 0); line-height: 1.2; pointer-events: all; white-space: normal; overflow-wrap: normal;\"><span style=\"font-size: 13px;\">STRING</span></div></div></div></foreignObject><text x=\"388\" y=\"579\" fill=\"rgb(0, 0, 0)\" font-family=\"Helvetica\" font-size=\"13px\">STRING</text></switch></g><rect x=\"280\" y=\"590\" width=\"100\" height=\"30\" fill=\"none\" stroke=\"none\" pointer-events=\"all\"/><path d=\"M 280 590 M 380 590 M 380 620 M 280 620\" fill=\"none\" stroke=\"rgb(0, 0, 0)\" stroke-linecap=\"square\" stroke-miterlimit=\"10\" pointer-events=\"all\"/><g transform=\"translate(-0.5 -0.5)\"><switch><foreignObject pointer-events=\"none\" width=\"100%\" height=\"100%\" requiredFeatures=\"http://www.w3.org/TR/SVG11/feature#Extensibility\" style=\"overflow: visible; text-align: left;\"><div xmlns=\"http://www.w3.org/1999/xhtml\" style=\"display: flex; align-items: unsafe center; justify-content: unsafe center; width: 98px; height: 1px; padding-top: 605px; margin-left: 281px;\"><div data-drawio-colors=\"color: rgb(0, 0, 0); \" style=\"box-sizing: border-box; font-size: 0px; text-align: center; max-height: 26px; overflow: hidden;\"><div style=\"display: inline-block; font-size: 13px; font-family: Helvetica; color: rgb(0, 0, 0); line-height: 1.2; pointer-events: all; white-space: normal; overflow-wrap: normal;\">surname</div></div></div></foreignObject><text x=\"330\" y=\"609\" fill=\"rgb(0, 0, 0)\" font-family=\"Helvetica\" font-size=\"13px\" text-anchor=\"middle\">surname</text></switch></g><rect x=\"380\" y=\"590\" width=\"100\" height=\"30\" fill=\"none\" stroke=\"none\" pointer-events=\"all\"/><path d=\"M 380 590 M 480 590 M 480 620 M 380 620\" fill=\"none\" stroke=\"rgb(0, 0, 0)\" stroke-linecap=\"square\" stroke-miterlimit=\"10\" pointer-events=\"all\"/><g transform=\"translate(-0.5 -0.5)\"><switch><foreignObject pointer-events=\"none\" width=\"100%\" height=\"100%\" requiredFeatures=\"http://www.w3.org/TR/SVG11/feature#Extensibility\" style=\"overflow: visible; text-align: left;\"><div xmlns=\"http://www.w3.org/1999/xhtml\" style=\"display: flex; align-items: unsafe center; justify-content: unsafe flex-start; width: 92px; height: 1px; padding-top: 605px; margin-left: 388px;\"><div data-drawio-colors=\"color: rgb(0, 0, 0); \" style=\"box-sizing: border-box; font-size: 0px; text-align: left; max-height: 26px; overflow: hidden;\"><div style=\"display: inline-block; font-size: 13px; font-family: Helvetica; color: rgb(0, 0, 0); line-height: 1.2; pointer-events: all; white-space: normal; overflow-wrap: normal;\"><font style=\"font-size: 13px;\">STRING</font></div></div></div></foreignObject><text x=\"388\" y=\"609\" fill=\"rgb(0, 0, 0)\" font-family=\"Helvetica\" font-size=\"13px\">STRING</text></switch></g><rect x=\"280\" y=\"620\" width=\"100\" height=\"30\" fill=\"none\" stroke=\"none\" pointer-events=\"all\"/><path d=\"M 280 620 M 380 620 M 380 650 M 280 650\" fill=\"none\" stroke=\"rgb(0, 0, 0)\" stroke-linecap=\"square\" stroke-miterlimit=\"10\" pointer-events=\"all\"/><g transform=\"translate(-0.5 -0.5)\"><switch><foreignObject pointer-events=\"none\" width=\"100%\" height=\"100%\" requiredFeatures=\"http://www.w3.org/TR/SVG11/feature#Extensibility\" style=\"overflow: visible; text-align: left;\"><div xmlns=\"http://www.w3.org/1999/xhtml\" style=\"display: flex; align-items: unsafe center; justify-content: unsafe center; width: 98px; height: 1px; padding-top: 635px; margin-left: 281px;\"><div data-drawio-colors=\"color: rgb(0, 0, 0); \" style=\"box-sizing: border-box; font-size: 0px; text-align: center; max-height: 26px; overflow: hidden;\"><div style=\"display: inline-block; font-size: 13px; font-family: Helvetica; color: rgb(0, 0, 0); line-height: 1.2; pointer-events: all; white-space: normal; overflow-wrap: normal;\">gender</div></div></div></foreignObject><text x=\"330\" y=\"639\" fill=\"rgb(0, 0, 0)\" font-family=\"Helvetica\" font-size=\"13px\" text-anchor=\"middle\">gender</text></switch></g><rect x=\"380\" y=\"620\" width=\"100\" height=\"30\" fill=\"none\" stroke=\"none\" pointer-events=\"all\"/><path d=\"M 380 620 M 480 620 M 480 650 M 380 650\" fill=\"none\" stroke=\"rgb(0, 0, 0)\" stroke-linecap=\"square\" stroke-miterlimit=\"10\" pointer-events=\"all\"/><g transform=\"translate(-0.5 -0.5)\"><switch><foreignObject pointer-events=\"none\" width=\"100%\" height=\"100%\" requiredFeatures=\"http://www.w3.org/TR/SVG11/feature#Extensibility\" style=\"overflow: visible; text-align: left;\"><div xmlns=\"http://www.w3.org/1999/xhtml\" style=\"display: flex; align-items: unsafe center; justify-content: unsafe flex-start; width: 92px; height: 1px; padding-top: 635px; margin-left: 388px;\"><div data-drawio-colors=\"color: rgb(0, 0, 0); \" style=\"box-sizing: border-box; font-size: 0px; text-align: left; max-height: 26px; overflow: hidden;\"><div style=\"display: inline-block; font-size: 13px; font-family: Helvetica; color: rgb(0, 0, 0); line-height: 1.2; pointer-events: all; white-space: normal; overflow-wrap: normal;\">STRING</div></div></div></foreignObject><text x=\"388\" y=\"639\" fill=\"rgb(0, 0, 0)\" font-family=\"Helvetica\" font-size=\"13px\">STRING</text></switch></g><rect x=\"280\" y=\"650\" width=\"100\" height=\"30\" fill=\"none\" stroke=\"none\" pointer-events=\"all\"/><path d=\"M 280 650 M 380 650 M 380 680 M 280 680\" fill=\"none\" stroke=\"rgb(0, 0, 0)\" stroke-linecap=\"square\" stroke-miterlimit=\"10\" pointer-events=\"all\"/><g transform=\"translate(-0.5 -0.5)\"><switch><foreignObject pointer-events=\"none\" width=\"100%\" height=\"100%\" requiredFeatures=\"http://www.w3.org/TR/SVG11/feature#Extensibility\" style=\"overflow: visible; text-align: left;\"><div xmlns=\"http://www.w3.org/1999/xhtml\" style=\"display: flex; align-items: unsafe center; justify-content: unsafe center; width: 98px; height: 1px; padding-top: 665px; margin-left: 281px;\"><div data-drawio-colors=\"color: rgb(0, 0, 0); \" style=\"box-sizing: border-box; font-size: 0px; text-align: center; max-height: 26px; overflow: hidden;\"><div style=\"display: inline-block; font-size: 13px; font-family: Helvetica; color: rgb(0, 0, 0); line-height: 1.2; pointer-events: all; white-space: normal; overflow-wrap: normal;\">birth_date</div></div></div></foreignObject><text x=\"330\" y=\"669\" fill=\"rgb(0, 0, 0)\" font-family=\"Helvetica\" font-size=\"13px\" text-anchor=\"middle\">birth_date</text></switch></g><rect x=\"380\" y=\"650\" width=\"100\" height=\"30\" fill=\"none\" stroke=\"none\" pointer-events=\"all\"/><path d=\"M 380 650 M 480 650 M 480 680 M 380 680\" fill=\"none\" stroke=\"rgb(0, 0, 0)\" stroke-linecap=\"square\" stroke-miterlimit=\"10\" pointer-events=\"all\"/><g transform=\"translate(-0.5 -0.5)\"><switch><foreignObject pointer-events=\"none\" width=\"100%\" height=\"100%\" requiredFeatures=\"http://www.w3.org/TR/SVG11/feature#Extensibility\" style=\"overflow: visible; text-align: left;\"><div xmlns=\"http://www.w3.org/1999/xhtml\" style=\"display: flex; align-items: unsafe center; justify-content: unsafe flex-start; width: 92px; height: 1px; padding-top: 665px; margin-left: 388px;\"><div data-drawio-colors=\"color: rgb(0, 0, 0); \" style=\"box-sizing: border-box; font-size: 0px; text-align: left; max-height: 26px; overflow: hidden;\"><div style=\"display: inline-block; font-size: 13px; font-family: Helvetica; color: rgb(0, 0, 0); line-height: 1.2; pointer-events: all; white-space: normal; overflow-wrap: normal;\">DATE</div></div></div></foreignObject><text x=\"388\" y=\"669\" fill=\"rgb(0, 0, 0)\" font-family=\"Helvetica\" font-size=\"13px\">DATE</text></switch></g><rect x=\"280\" y=\"680\" width=\"100\" height=\"30\" fill=\"none\" stroke=\"none\" pointer-events=\"all\"/><path d=\"M 280 680 M 380 680 M 380 710 M 280 710\" fill=\"none\" stroke=\"rgb(0, 0, 0)\" stroke-linecap=\"square\" stroke-miterlimit=\"10\" pointer-events=\"all\"/><g transform=\"translate(-0.5 -0.5)\"><switch><foreignObject pointer-events=\"none\" width=\"100%\" height=\"100%\" requiredFeatures=\"http://www.w3.org/TR/SVG11/feature#Extensibility\" style=\"overflow: visible; text-align: left;\"><div xmlns=\"http://www.w3.org/1999/xhtml\" style=\"display: flex; align-items: unsafe center; justify-content: unsafe center; width: 98px; height: 1px; padding-top: 695px; margin-left: 281px;\"><div data-drawio-colors=\"color: rgb(0, 0, 0); \" style=\"box-sizing: border-box; font-size: 0px; text-align: center; max-height: 26px; overflow: hidden;\"><div style=\"display: inline-block; font-size: 13px; font-family: Helvetica; color: rgb(0, 0, 0); line-height: 1.2; pointer-events: all; white-space: normal; overflow-wrap: normal;\">phone</div></div></div></foreignObject><text x=\"330\" y=\"699\" fill=\"rgb(0, 0, 0)\" font-family=\"Helvetica\" font-size=\"13px\" text-anchor=\"middle\">phone</text></switch></g><rect x=\"380\" y=\"680\" width=\"100\" height=\"30\" fill=\"none\" stroke=\"none\" pointer-events=\"all\"/><path d=\"M 380 680 M 480 680 M 480 710 M 380 710\" fill=\"none\" stroke=\"rgb(0, 0, 0)\" stroke-linecap=\"square\" stroke-miterlimit=\"10\" pointer-events=\"all\"/><g transform=\"translate(-0.5 -0.5)\"><switch><foreignObject pointer-events=\"none\" width=\"100%\" height=\"100%\" requiredFeatures=\"http://www.w3.org/TR/SVG11/feature#Extensibility\" style=\"overflow: visible; text-align: left;\"><div xmlns=\"http://www.w3.org/1999/xhtml\" style=\"display: flex; align-items: unsafe center; justify-content: unsafe flex-start; width: 92px; height: 1px; padding-top: 695px; margin-left: 388px;\"><div data-drawio-colors=\"color: rgb(0, 0, 0); \" style=\"box-sizing: border-box; font-size: 0px; text-align: left; max-height: 26px; overflow: hidden;\"><div style=\"display: inline-block; font-size: 13px; font-family: Helvetica; color: rgb(0, 0, 0); line-height: 1.2; pointer-events: all; white-space: normal; overflow-wrap: normal;\">STRING</div></div></div></foreignObject><text x=\"388\" y=\"699\" fill=\"rgb(0, 0, 0)\" font-family=\"Helvetica\" font-size=\"13px\">STRING</text></switch></g><rect x=\"280\" y=\"710\" width=\"100\" height=\"30\" fill=\"none\" stroke=\"none\" pointer-events=\"all\"/><path d=\"M 280 710 M 380 710 M 380 740 M 280 740\" fill=\"none\" stroke=\"rgb(0, 0, 0)\" stroke-linecap=\"square\" stroke-miterlimit=\"10\" pointer-events=\"all\"/><g transform=\"translate(-0.5 -0.5)\"><switch><foreignObject pointer-events=\"none\" width=\"100%\" height=\"100%\" requiredFeatures=\"http://www.w3.org/TR/SVG11/feature#Extensibility\" style=\"overflow: visible; text-align: left;\"><div xmlns=\"http://www.w3.org/1999/xhtml\" style=\"display: flex; align-items: unsafe center; justify-content: unsafe center; width: 98px; height: 1px; padding-top: 725px; margin-left: 281px;\"><div data-drawio-colors=\"color: rgb(0, 0, 0); \" style=\"box-sizing: border-box; font-size: 0px; text-align: center; max-height: 26px; overflow: hidden;\"><div style=\"display: inline-block; font-size: 13px; font-family: Helvetica; color: rgb(0, 0, 0); line-height: 1.2; pointer-events: all; white-space: normal; overflow-wrap: normal;\">email</div></div></div></foreignObject><text x=\"330\" y=\"729\" fill=\"rgb(0, 0, 0)\" font-family=\"Helvetica\" font-size=\"13px\" text-anchor=\"middle\">email</text></switch></g><rect x=\"380\" y=\"710\" width=\"100\" height=\"30\" fill=\"none\" stroke=\"none\" pointer-events=\"all\"/><path d=\"M 380 710 M 480 710 M 480 740 M 380 740\" fill=\"none\" stroke=\"rgb(0, 0, 0)\" stroke-linecap=\"square\" stroke-miterlimit=\"10\" pointer-events=\"all\"/><g transform=\"translate(-0.5 -0.5)\"><switch><foreignObject pointer-events=\"none\" width=\"100%\" height=\"100%\" requiredFeatures=\"http://www.w3.org/TR/SVG11/feature#Extensibility\" style=\"overflow: visible; text-align: left;\"><div xmlns=\"http://www.w3.org/1999/xhtml\" style=\"display: flex; align-items: unsafe center; justify-content: unsafe flex-start; width: 92px; height: 1px; padding-top: 725px; margin-left: 388px;\"><div data-drawio-colors=\"color: rgb(0, 0, 0); \" style=\"box-sizing: border-box; font-size: 0px; text-align: left; max-height: 26px; overflow: hidden;\"><div style=\"display: inline-block; font-size: 13px; font-family: Helvetica; color: rgb(0, 0, 0); line-height: 1.2; pointer-events: all; white-space: normal; overflow-wrap: normal;\">STRING</div></div></div></foreignObject><text x=\"388\" y=\"729\" fill=\"rgb(0, 0, 0)\" font-family=\"Helvetica\" font-size=\"13px\">STRING</text></switch></g><path d=\"M 760 465 L 840 525\" fill=\"none\" stroke=\"rgb(0, 0, 0)\" stroke-miterlimit=\"10\" pointer-events=\"stroke\"/><path d=\"M 1320 285 L 1400 225\" fill=\"none\" stroke=\"rgb(0, 0, 0)\" stroke-miterlimit=\"10\" pointer-events=\"stroke\"/><path d=\"M 1040 225 L 1120 285\" fill=\"none\" stroke=\"rgb(0, 0, 0)\" stroke-miterlimit=\"10\" pointer-events=\"stroke\"/><path d=\"M 760 285 L 840 225\" fill=\"none\" stroke=\"rgb(0, 0, 0)\" stroke-miterlimit=\"10\" pointer-events=\"stroke\"/><path d=\"M 200 340 L 200 323.5 Q 200 310 186.5 310 L 13.5 310 Q 0 310 0 323.5 L 0 340\" fill=\"#cadae6\" stroke=\"rgb(0, 0, 0)\" stroke-miterlimit=\"10\" pointer-events=\"all\"/><path d=\"M 0 340 L 0 416.5 Q 0 430 13.5 430 L 186.5 430 Q 200 430 200 416.5 L 200 340\" fill=\"none\" stroke=\"rgb(0, 0, 0)\" stroke-miterlimit=\"10\" pointer-events=\"none\"/><path d=\"M 0 340 L 200 340\" fill=\"none\" stroke=\"rgb(0, 0, 0)\" stroke-miterlimit=\"10\" pointer-events=\"none\"/><path d=\"M 100 340 L 100 370 L 100 400 L 100 430\" fill=\"none\" stroke=\"rgb(0, 0, 0)\" stroke-miterlimit=\"10\" pointer-events=\"none\"/><g fill=\"rgb(0, 0, 0)\" font-family=\"Helvetica\" font-weight=\"bold\" text-anchor=\"middle\" font-size=\"13px\"><text x=\"99.5\" y=\"330\">DimRegion</text></g><rect x=\"0\" y=\"340\" width=\"100\" height=\"30\" fill=\"none\" stroke=\"none\" pointer-events=\"all\"/><path d=\"M 0 340 M 100 340 M 100 370 M 0 370\" fill=\"none\" stroke=\"rgb(0, 0, 0)\" stroke-linecap=\"square\" stroke-miterlimit=\"10\" pointer-events=\"all\"/><g transform=\"translate(-0.5 -0.5)\"><switch><foreignObject pointer-events=\"none\" width=\"100%\" height=\"100%\" requiredFeatures=\"http://www.w3.org/TR/SVG11/feature#Extensibility\" style=\"overflow: visible; text-align: left;\"><div xmlns=\"http://www.w3.org/1999/xhtml\" style=\"display: flex; align-items: unsafe center; justify-content: unsafe center; width: 98px; height: 1px; padding-top: 355px; margin-left: 1px;\"><div data-drawio-colors=\"color: rgb(0, 0, 0); \" style=\"box-sizing: border-box; font-size: 0px; text-align: center; max-height: 26px; overflow: hidden;\"><div style=\"display: inline-block; font-size: 13px; font-family: Helvetica; color: rgb(0, 0, 0); line-height: 1.2; pointer-events: all; white-space: normal; overflow-wrap: normal;\"><font style=\"font-size: 13px;\">city_id</font></div></div></div></foreignObject><text x=\"50\" y=\"359\" fill=\"rgb(0, 0, 0)\" font-family=\"Helvetica\" font-size=\"13px\" text-anchor=\"middle\">city_id</text></switch></g><rect x=\"100\" y=\"340\" width=\"100\" height=\"30\" fill=\"none\" stroke=\"none\" pointer-events=\"all\"/><path d=\"M 100 340 M 200 340 M 200 370 M 100 370\" fill=\"none\" stroke=\"rgb(0, 0, 0)\" stroke-linecap=\"square\" stroke-miterlimit=\"10\" pointer-events=\"all\"/><g transform=\"translate(-0.5 -0.5)\"><switch><foreignObject pointer-events=\"none\" width=\"100%\" height=\"100%\" requiredFeatures=\"http://www.w3.org/TR/SVG11/feature#Extensibility\" style=\"overflow: visible; text-align: left;\"><div xmlns=\"http://www.w3.org/1999/xhtml\" style=\"display: flex; align-items: unsafe center; justify-content: unsafe flex-start; width: 92px; height: 1px; padding-top: 355px; margin-left: 108px;\"><div data-drawio-colors=\"color: rgb(0, 0, 0); \" style=\"box-sizing: border-box; font-size: 0px; text-align: left; max-height: 26px; overflow: hidden;\"><div style=\"display: inline-block; font-size: 13px; font-family: Helvetica; color: rgb(0, 0, 0); line-height: 1.2; pointer-events: all; white-space: normal; overflow-wrap: normal;\"><font style=\"font-size: 13px;\">INTEGER</font></div></div></div></foreignObject><text x=\"108\" y=\"359\" fill=\"rgb(0, 0, 0)\" font-family=\"Helvetica\" font-size=\"13px\">INTEGER</text></switch></g><rect x=\"0\" y=\"370\" width=\"100\" height=\"30\" fill=\"none\" stroke=\"none\" pointer-events=\"all\"/><path d=\"M 0 370 M 100 370 M 100 400 M 0 400\" fill=\"none\" stroke=\"rgb(0, 0, 0)\" stroke-linecap=\"square\" stroke-miterlimit=\"10\" pointer-events=\"all\"/><g transform=\"translate(-0.5 -0.5)\"><switch><foreignObject pointer-events=\"none\" width=\"100%\" height=\"100%\" requiredFeatures=\"http://www.w3.org/TR/SVG11/feature#Extensibility\" style=\"overflow: visible; text-align: left;\"><div xmlns=\"http://www.w3.org/1999/xhtml\" style=\"display: flex; align-items: unsafe center; justify-content: unsafe center; width: 98px; height: 1px; padding-top: 385px; margin-left: 1px;\"><div data-drawio-colors=\"color: rgb(0, 0, 0); \" style=\"box-sizing: border-box; font-size: 0px; text-align: center; max-height: 26px; overflow: hidden;\"><div style=\"display: inline-block; font-size: 13px; font-family: Helvetica; color: rgb(0, 0, 0); line-height: 1.2; pointer-events: all; white-space: normal; overflow-wrap: normal;\"><font style=\"font-size: 13px;\">city_name</font></div></div></div></foreignObject><text x=\"50\" y=\"389\" fill=\"rgb(0, 0, 0)\" font-family=\"Helvetica\" font-size=\"13px\" text-anchor=\"middle\">city_name</text></switch></g><rect x=\"100\" y=\"370\" width=\"100\" height=\"30\" fill=\"none\" stroke=\"none\" pointer-events=\"all\"/><path d=\"M 100 370 M 200 370 M 200 400 M 100 400\" fill=\"none\" stroke=\"rgb(0, 0, 0)\" stroke-linecap=\"square\" stroke-miterlimit=\"10\" pointer-events=\"all\"/><g transform=\"translate(-0.5 -0.5)\"><switch><foreignObject pointer-events=\"none\" width=\"100%\" height=\"100%\" requiredFeatures=\"http://www.w3.org/TR/SVG11/feature#Extensibility\" style=\"overflow: visible; text-align: left;\"><div xmlns=\"http://www.w3.org/1999/xhtml\" style=\"display: flex; align-items: unsafe center; justify-content: unsafe flex-start; width: 92px; height: 1px; padding-top: 385px; margin-left: 108px;\"><div data-drawio-colors=\"color: rgb(0, 0, 0); \" style=\"box-sizing: border-box; font-size: 0px; text-align: left; max-height: 26px; overflow: hidden;\"><div style=\"display: inline-block; font-size: 13px; font-family: Helvetica; color: rgb(0, 0, 0); line-height: 1.2; pointer-events: all; white-space: normal; overflow-wrap: normal;\"><span style=\"font-size: 13px;\">STRING</span></div></div></div></foreignObject><text x=\"108\" y=\"389\" fill=\"rgb(0, 0, 0)\" font-family=\"Helvetica\" font-size=\"13px\">STRING</text></switch></g><rect x=\"0\" y=\"400\" width=\"100\" height=\"30\" fill=\"none\" stroke=\"none\" pointer-events=\"all\"/><path d=\"M 0 400 M 100 400 M 100 430 M 0 430\" fill=\"none\" stroke=\"rgb(0, 0, 0)\" stroke-linecap=\"square\" stroke-miterlimit=\"10\" pointer-events=\"all\"/><g transform=\"translate(-0.5 -0.5)\"><switch><foreignObject pointer-events=\"none\" width=\"100%\" height=\"100%\" requiredFeatures=\"http://www.w3.org/TR/SVG11/feature#Extensibility\" style=\"overflow: visible; text-align: left;\"><div xmlns=\"http://www.w3.org/1999/xhtml\" style=\"display: flex; align-items: unsafe center; justify-content: unsafe center; width: 98px; height: 1px; padding-top: 415px; margin-left: 1px;\"><div data-drawio-colors=\"color: rgb(0, 0, 0); \" style=\"box-sizing: border-box; font-size: 0px; text-align: center; max-height: 26px; overflow: hidden;\"><div style=\"display: inline-block; font-size: 13px; font-family: Helvetica; color: rgb(0, 0, 0); line-height: 1.2; pointer-events: all; white-space: normal; overflow-wrap: normal;\"><font style=\"font-size: 13px;\">region_name<br style=\"font-size: 13px;\"/></font></div></div></div></foreignObject><text x=\"50\" y=\"419\" fill=\"rgb(0, 0, 0)\" font-family=\"Helvetica\" font-size=\"13px\" text-anchor=\"middle\">region_name\n</text></switch></g><rect x=\"100\" y=\"400\" width=\"100\" height=\"30\" fill=\"none\" stroke=\"none\" pointer-events=\"all\"/><path d=\"M 100 400 M 200 400 M 200 430 M 100 430\" fill=\"none\" stroke=\"rgb(0, 0, 0)\" stroke-linecap=\"square\" stroke-miterlimit=\"10\" pointer-events=\"all\"/><g transform=\"translate(-0.5 -0.5)\"><switch><foreignObject pointer-events=\"none\" width=\"100%\" height=\"100%\" requiredFeatures=\"http://www.w3.org/TR/SVG11/feature#Extensibility\" style=\"overflow: visible; text-align: left;\"><div xmlns=\"http://www.w3.org/1999/xhtml\" style=\"display: flex; align-items: unsafe center; justify-content: unsafe flex-start; width: 92px; height: 1px; padding-top: 415px; margin-left: 108px;\"><div data-drawio-colors=\"color: rgb(0, 0, 0); \" style=\"box-sizing: border-box; font-size: 0px; text-align: left; max-height: 26px; overflow: hidden;\"><div style=\"display: inline-block; font-size: 13px; font-family: Helvetica; color: rgb(0, 0, 0); line-height: 1.2; pointer-events: all; white-space: normal; overflow-wrap: normal;\"><font style=\"font-size: 13px;\">STRING</font></div></div></div></foreignObject><text x=\"108\" y=\"419\" fill=\"rgb(0, 0, 0)\" font-family=\"Helvetica\" font-size=\"13px\">STRING</text></switch></g><path d=\"M 480 120 L 480 103.5 Q 480 90 466.5 90 L 293.5 90 Q 280 90 280 103.5 L 280 120\" fill=\"#cadae6\" stroke=\"rgb(0, 0, 0)\" stroke-miterlimit=\"10\" pointer-events=\"all\"/><path d=\"M 280 120 L 280 226.5 Q 280 240 293.5 240 L 466.5 240 Q 480 240 480 226.5 L 480 120\" fill=\"none\" stroke=\"rgb(0, 0, 0)\" stroke-miterlimit=\"10\" pointer-events=\"none\"/><path d=\"M 280 120 L 480 120\" fill=\"none\" stroke=\"rgb(0, 0, 0)\" stroke-miterlimit=\"10\" pointer-events=\"none\"/><path d=\"M 380 120 L 380 150 L 380 180 L 380 210 L 380 240\" fill=\"none\" stroke=\"rgb(0, 0, 0)\" stroke-miterlimit=\"10\" pointer-events=\"none\"/><g fill=\"rgb(0, 0, 0)\" font-family=\"Helvetica\" font-weight=\"bold\" text-anchor=\"middle\" font-size=\"13px\"><text x=\"379.5\" y=\"110\">DimRetailer</text></g><rect x=\"280\" y=\"120\" width=\"100\" height=\"30\" fill=\"none\" stroke=\"none\" pointer-events=\"all\"/><path d=\"M 280 120 M 380 120 M 380 150 M 280 150\" fill=\"none\" stroke=\"rgb(0, 0, 0)\" stroke-linecap=\"square\" stroke-miterlimit=\"10\" pointer-events=\"all\"/><g transform=\"translate(-0.5 -0.5)\"><switch><foreignObject pointer-events=\"none\" width=\"100%\" height=\"100%\" requiredFeatures=\"http://www.w3.org/TR/SVG11/feature#Extensibility\" style=\"overflow: visible; text-align: left;\"><div xmlns=\"http://www.w3.org/1999/xhtml\" style=\"display: flex; align-items: unsafe center; justify-content: unsafe center; width: 98px; height: 1px; padding-top: 135px; margin-left: 281px;\"><div data-drawio-colors=\"color: rgb(0, 0, 0); \" style=\"box-sizing: border-box; font-size: 0px; text-align: center; max-height: 26px; overflow: hidden;\"><div style=\"display: inline-block; font-size: 13px; font-family: Helvetica; color: rgb(0, 0, 0); line-height: 1.2; pointer-events: all; white-space: normal; overflow-wrap: normal;\"><font style=\"font-size: 13px;\">retailer_id</font></div></div></div></foreignObject><text x=\"330\" y=\"139\" fill=\"rgb(0, 0, 0)\" font-family=\"Helvetica\" font-size=\"13px\" text-anchor=\"middle\">retailer_id</text></switch></g><rect x=\"380\" y=\"120\" width=\"100\" height=\"30\" fill=\"none\" stroke=\"none\" pointer-events=\"all\"/><path d=\"M 380 120 M 480 120 M 480 150 M 380 150\" fill=\"none\" stroke=\"rgb(0, 0, 0)\" stroke-linecap=\"square\" stroke-miterlimit=\"10\" pointer-events=\"all\"/><g transform=\"translate(-0.5 -0.5)\"><switch><foreignObject pointer-events=\"none\" width=\"100%\" height=\"100%\" requiredFeatures=\"http://www.w3.org/TR/SVG11/feature#Extensibility\" style=\"overflow: visible; text-align: left;\"><div xmlns=\"http://www.w3.org/1999/xhtml\" style=\"display: flex; align-items: unsafe center; justify-content: unsafe flex-start; width: 92px; height: 1px; padding-top: 135px; margin-left: 388px;\"><div data-drawio-colors=\"color: rgb(0, 0, 0); \" style=\"box-sizing: border-box; font-size: 0px; text-align: left; max-height: 26px; overflow: hidden;\"><div style=\"display: inline-block; font-size: 13px; font-family: Helvetica; color: rgb(0, 0, 0); line-height: 1.2; pointer-events: all; white-space: normal; overflow-wrap: normal;\">INTEGER</div></div></div></foreignObject><text x=\"388\" y=\"139\" fill=\"rgb(0, 0, 0)\" font-family=\"Helvetica\" font-size=\"13px\">INTEGER</text></switch></g><rect x=\"280\" y=\"150\" width=\"100\" height=\"30\" fill=\"none\" stroke=\"none\" pointer-events=\"all\"/><path d=\"M 280 150 M 380 150 M 380 180 M 280 180\" fill=\"none\" stroke=\"rgb(0, 0, 0)\" stroke-linecap=\"square\" stroke-miterlimit=\"10\" pointer-events=\"all\"/><g transform=\"translate(-0.5 -0.5)\"><switch><foreignObject pointer-events=\"none\" width=\"100%\" height=\"100%\" requiredFeatures=\"http://www.w3.org/TR/SVG11/feature#Extensibility\" style=\"overflow: visible; text-align: left;\"><div xmlns=\"http://www.w3.org/1999/xhtml\" style=\"display: flex; align-items: unsafe center; justify-content: unsafe center; width: 98px; height: 1px; padding-top: 165px; margin-left: 281px;\"><div data-drawio-colors=\"color: rgb(0, 0, 0); \" style=\"box-sizing: border-box; font-size: 0px; text-align: center; max-height: 26px; overflow: hidden;\"><div style=\"display: inline-block; font-size: 13px; font-family: Helvetica; color: rgb(0, 0, 0); line-height: 1.2; pointer-events: all; white-space: normal; overflow-wrap: normal;\">city_id</div></div></div></foreignObject><text x=\"330\" y=\"169\" fill=\"rgb(0, 0, 0)\" font-family=\"Helvetica\" font-size=\"13px\" text-anchor=\"middle\">city_id</text></switch></g><rect x=\"380\" y=\"150\" width=\"100\" height=\"30\" fill=\"none\" stroke=\"none\" pointer-events=\"all\"/><path d=\"M 380 150 M 480 150 M 480 180 M 380 180\" fill=\"none\" stroke=\"rgb(0, 0, 0)\" stroke-linecap=\"square\" stroke-miterlimit=\"10\" pointer-events=\"all\"/><g transform=\"translate(-0.5 -0.5)\"><switch><foreignObject pointer-events=\"none\" width=\"100%\" height=\"100%\" requiredFeatures=\"http://www.w3.org/TR/SVG11/feature#Extensibility\" style=\"overflow: visible; text-align: left;\"><div xmlns=\"http://www.w3.org/1999/xhtml\" style=\"display: flex; align-items: unsafe center; justify-content: unsafe flex-start; width: 92px; height: 1px; padding-top: 165px; margin-left: 388px;\"><div data-drawio-colors=\"color: rgb(0, 0, 0); \" style=\"box-sizing: border-box; font-size: 0px; text-align: left; max-height: 26px; overflow: hidden;\"><div style=\"display: inline-block; font-size: 13px; font-family: Helvetica; color: rgb(0, 0, 0); line-height: 1.2; pointer-events: all; white-space: normal; overflow-wrap: normal;\">INTEGER</div></div></div></foreignObject><text x=\"388\" y=\"169\" fill=\"rgb(0, 0, 0)\" font-family=\"Helvetica\" font-size=\"13px\">INTEGER</text></switch></g><rect x=\"280\" y=\"180\" width=\"100\" height=\"30\" fill=\"none\" stroke=\"none\" pointer-events=\"all\"/><path d=\"M 280 180 M 380 180 M 380 210 M 280 210\" fill=\"none\" stroke=\"rgb(0, 0, 0)\" stroke-linecap=\"square\" stroke-miterlimit=\"10\" pointer-events=\"all\"/><g transform=\"translate(-0.5 -0.5)\"><switch><foreignObject pointer-events=\"none\" width=\"100%\" height=\"100%\" requiredFeatures=\"http://www.w3.org/TR/SVG11/feature#Extensibility\" style=\"overflow: visible; text-align: left;\"><div xmlns=\"http://www.w3.org/1999/xhtml\" style=\"display: flex; align-items: unsafe center; justify-content: unsafe center; width: 98px; height: 1px; padding-top: 195px; margin-left: 281px;\"><div data-drawio-colors=\"color: rgb(0, 0, 0); \" style=\"box-sizing: border-box; font-size: 0px; text-align: center; max-height: 26px; overflow: hidden;\"><div style=\"display: inline-block; font-size: 13px; font-family: Helvetica; color: rgb(0, 0, 0); line-height: 1.2; pointer-events: all; white-space: normal; overflow-wrap: normal;\">retailer_type</div></div></div></foreignObject><text x=\"330\" y=\"199\" fill=\"rgb(0, 0, 0)\" font-family=\"Helvetica\" font-size=\"13px\" text-anchor=\"middle\">retailer_type</text></switch></g><rect x=\"380\" y=\"180\" width=\"100\" height=\"30\" fill=\"none\" stroke=\"none\" pointer-events=\"all\"/><path d=\"M 380 180 M 480 180 M 480 210 M 380 210\" fill=\"none\" stroke=\"rgb(0, 0, 0)\" stroke-linecap=\"square\" stroke-miterlimit=\"10\" pointer-events=\"all\"/><g transform=\"translate(-0.5 -0.5)\"><switch><foreignObject pointer-events=\"none\" width=\"100%\" height=\"100%\" requiredFeatures=\"http://www.w3.org/TR/SVG11/feature#Extensibility\" style=\"overflow: visible; text-align: left;\"><div xmlns=\"http://www.w3.org/1999/xhtml\" style=\"display: flex; align-items: unsafe center; justify-content: unsafe flex-start; width: 92px; height: 1px; padding-top: 195px; margin-left: 388px;\"><div data-drawio-colors=\"color: rgb(0, 0, 0); \" style=\"box-sizing: border-box; font-size: 0px; text-align: left; max-height: 26px; overflow: hidden;\"><div style=\"display: inline-block; font-size: 13px; font-family: Helvetica; color: rgb(0, 0, 0); line-height: 1.2; pointer-events: all; white-space: normal; overflow-wrap: normal;\"><font style=\"font-size: 13px;\">STRING</font></div></div></div></foreignObject><text x=\"388\" y=\"199\" fill=\"rgb(0, 0, 0)\" font-family=\"Helvetica\" font-size=\"13px\">STRING</text></switch></g><rect x=\"280\" y=\"210\" width=\"100\" height=\"30\" fill=\"none\" stroke=\"none\" pointer-events=\"all\"/><path d=\"M 280 210 M 380 210 M 380 240 M 280 240\" fill=\"none\" stroke=\"rgb(0, 0, 0)\" stroke-linecap=\"square\" stroke-miterlimit=\"10\" pointer-events=\"all\"/><g transform=\"translate(-0.5 -0.5)\"><switch><foreignObject pointer-events=\"none\" width=\"100%\" height=\"100%\" requiredFeatures=\"http://www.w3.org/TR/SVG11/feature#Extensibility\" style=\"overflow: visible; text-align: left;\"><div xmlns=\"http://www.w3.org/1999/xhtml\" style=\"display: flex; align-items: unsafe center; justify-content: unsafe center; width: 98px; height: 1px; padding-top: 225px; margin-left: 281px;\"><div data-drawio-colors=\"color: rgb(0, 0, 0); \" style=\"box-sizing: border-box; font-size: 0px; text-align: center; max-height: 26px; overflow: hidden;\"><div style=\"display: inline-block; font-size: 13px; font-family: Helvetica; color: rgb(0, 0, 0); line-height: 1.2; pointer-events: all; white-space: normal; overflow-wrap: normal;\"><font style=\"font-size: 13px;\">retailer_name<br style=\"font-size: 13px;\"/></font></div></div></div></foreignObject><text x=\"330\" y=\"229\" fill=\"rgb(0, 0, 0)\" font-family=\"Helvetica\" font-size=\"13px\" text-anchor=\"middle\">retailer_name\n</text></switch></g><rect x=\"380\" y=\"210\" width=\"100\" height=\"30\" fill=\"none\" stroke=\"none\" pointer-events=\"all\"/><path d=\"M 380 210 M 480 210 M 480 240 M 380 240\" fill=\"none\" stroke=\"rgb(0, 0, 0)\" stroke-linecap=\"square\" stroke-miterlimit=\"10\" pointer-events=\"all\"/><g transform=\"translate(-0.5 -0.5)\"><switch><foreignObject pointer-events=\"none\" width=\"100%\" height=\"100%\" requiredFeatures=\"http://www.w3.org/TR/SVG11/feature#Extensibility\" style=\"overflow: visible; text-align: left;\"><div xmlns=\"http://www.w3.org/1999/xhtml\" style=\"display: flex; align-items: unsafe center; justify-content: unsafe flex-start; width: 92px; height: 1px; padding-top: 225px; margin-left: 388px;\"><div data-drawio-colors=\"color: rgb(0, 0, 0); \" style=\"box-sizing: border-box; font-size: 0px; text-align: left; max-height: 26px; overflow: hidden;\"><div style=\"display: inline-block; font-size: 13px; font-family: Helvetica; color: rgb(0, 0, 0); line-height: 1.2; pointer-events: all; white-space: normal; overflow-wrap: normal;\"><font style=\"font-size: 13px;\">STRING</font></div></div></div></foreignObject><text x=\"388\" y=\"229\" fill=\"rgb(0, 0, 0)\" font-family=\"Helvetica\" font-size=\"13px\">STRING</text></switch></g><path d=\"M 480 225 L 560 285\" fill=\"none\" stroke=\"rgb(0, 0, 0)\" stroke-miterlimit=\"10\" pointer-events=\"stroke\"/><path d=\"M 200 415 L 280 515\" fill=\"none\" stroke=\"rgb(0, 0, 0)\" stroke-miterlimit=\"10\" pointer-events=\"stroke\"/><path d=\"M 280 225 L 200 340\" fill=\"none\" stroke=\"rgb(0, 0, 0)\" stroke-miterlimit=\"10\" pointer-events=\"stroke\"/><path d=\"M 100 310 L 240 0 L 1080 0 L 1400 127.5\" fill=\"none\" stroke=\"rgb(0, 0, 0)\" stroke-miterlimit=\"10\" pointer-events=\"stroke\"/></g><switch><g requiredFeatures=\"http://www.w3.org/TR/SVG11/feature#Extensibility\"/><a transform=\"translate(0,-5)\" xlink:href=\"https://www.drawio.com/doc/faq/svg-export-text-problems\" target=\"_blank\"><text text-anchor=\"middle\" font-size=\"10px\" x=\"50%\" y=\"100%\">Text is not SVG - cannot display</text></a></switch></svg>"
          },
          "metadata": {},
          "execution_count": 2
        }
      ],
      "source": [
        "from pyspark.sql import SparkSession, functions as F\n",
        "from google.colab import drive\n",
        "drive.mount('/content/drive')\n",
        "\n",
        "from IPython.display import SVG\n",
        "SVG(\"/content/drive/My Drive/yzup/huwaei assigment/data_model.svg\")"
      ]
    },
    {
      "cell_type": "markdown",
      "metadata": {
        "id": "1E8d4nqsArXf"
      },
      "source": [
        "<div style=\"background-color: white; padding: 10px; border-bottom: 4px solid #C2172D;\">\n",
        "    <a id=\"read_data\">\n",
        "        <h3 style=\"color: #C2172D\">3.  Parquet Data  Okunması ve Spark SQL Görünümlerinin Oluşturulması</h3>\n",
        "    </a>\n",
        "</div>"
      ]
    },
    {
      "cell_type": "code",
      "execution_count": 3,
      "metadata": {
        "id": "cPsqsIchArXg"
      },
      "outputs": [],
      "source": [
        "# Creating new SparkSession instance\n",
        "\n",
        "spark = SparkSession.builder.appName(\"PySparkExample\").getOrCreate()\n",
        "\n",
        "\n",
        "# DataFrame olarak parquet data okunması\n",
        "df_pur = spark.read.parquet(\"/content/drive/My Drive/yzup/huwaei assigment/data/purchase\")\n",
        "df_sal = spark.read.parquet(\"/content/drive/My Drive/yzup/huwaei assigment/data/sale\")\n",
        "df_cus = spark.read.parquet(\"/content/drive/My Drive/yzup/huwaei assigment/data/customer\")\n",
        "df_ret = spark.read.parquet(\"/content/drive/My Drive/yzup/huwaei assigment/data/retailer\")\n",
        "df_pro = spark.read.parquet(\"/content/drive/My Drive/yzup/huwaei assigment/data/product\")\n",
        "df_sup = spark.read.parquet(\"/content/drive/My Drive/yzup/huwaei assigment/data/supplier\")\n",
        "df_reg = spark.read.parquet(\"/content/drive/My Drive/yzup/huwaei assigment/data/region\")\n",
        "df_date = spark.read.parquet(\"/content/drive/My Drive/yzup/huwaei assigment/data/date\")\n",
        "\n",
        "#  Spark SQL sorguları için temporary view tabloları\n",
        "df_cus.createOrReplaceTempView(\"DimCustomer\")\n",
        "df_pur.createOrReplaceTempView(\"FactPurchase\")\n",
        "df_sal.createOrReplaceTempView(\"FactSale\")\n",
        "df_ret.createOrReplaceTempView(\"DimRetailer\")\n",
        "df_pro.createOrReplaceTempView(\"DimProduct\")\n",
        "df_sup.createOrReplaceTempView(\"DimSupplier\")\n",
        "df_reg.createOrReplaceTempView(\"DimRegion\")\n",
        "df_date.createOrReplaceTempView(\"DimDate\")"
      ]
    },
    {
      "cell_type": "markdown",
      "metadata": {
        "id": "QJSENy6LArXg"
      },
      "source": [
        "<div style=\"background-color: white; padding: 10px; border-bottom: 4px solid #C2172D;\">\n",
        "    <a id=\"spark_sql_practices\">\n",
        "        <h3 style=\"color: #C2172D\">4. Spark SQL Practices</h3>\n",
        "    </a>\n",
        "</div>"
      ]
    },
    {
      "cell_type": "markdown",
      "metadata": {
        "id": "_3-Xz990ArXh"
      },
      "source": [
        "**<a id=\"selecting_columns\">Selecting columns</a>**"
      ]
    },
    {
      "cell_type": "code",
      "execution_count": 4,
      "metadata": {
        "colab": {
          "base_uri": "https://localhost:8080/"
        },
        "id": "IjJ9n9ycArXh",
        "outputId": "3d5d5b1d-b028-4c39-9fd8-29a4fab916f9"
      },
      "outputs": [
        {
          "output_type": "stream",
          "name": "stdout",
          "text": [
            "+-----------+-------+--------+----------+\n",
            "|customer_id|   name| surname|birth_date|\n",
            "+-----------+-------+--------+----------+\n",
            "|          1| Jazmin|  Burril|1958-09-22|\n",
            "|          2| Dalila|   Faers|2000-11-08|\n",
            "|          3|Wayland|Walework|1976-03-08|\n",
            "|          4|Amberly|  Haquin|1948-10-08|\n",
            "|          5|Garrett|   Frear|1957-09-25|\n",
            "+-----------+-------+--------+----------+\n",
            "\n"
          ]
        }
      ],
      "source": [
        "# Müşteri verilerinin genel olarak incelenmesi\n",
        "\n",
        "spark.sql(\"SELECT customer_id, name, surname, birth_date FROM DimCustomer LIMIT 5\").show()"
      ]
    },
    {
      "cell_type": "code",
      "execution_count": 5,
      "metadata": {
        "colab": {
          "base_uri": "https://localhost:8080/"
        },
        "id": "4HyhUZniArXh",
        "outputId": "cdf9b3c1-f319-4c95-c993-78ee7b1a9195"
      },
      "outputs": [
        {
          "output_type": "stream",
          "name": "stdout",
          "text": [
            "+-----------+-------+--------+----------+\n",
            "|customer_id|   name| surname|birth_date|\n",
            "+-----------+-------+--------+----------+\n",
            "|          1| Jazmin|  Burril|1958-09-22|\n",
            "|          2| Dalila|   Faers|2000-11-08|\n",
            "|          3|Wayland|Walework|1976-03-08|\n",
            "|          4|Amberly|  Haquin|1948-10-08|\n",
            "|          5|Garrett|   Frear|1957-09-25|\n",
            "+-----------+-------+--------+----------+\n",
            "only showing top 5 rows\n",
            "\n"
          ]
        }
      ],
      "source": [
        "# DataFrame deki Müşteri verilerini genel olarak incelenmesi\n",
        "\n",
        "df_cus.select(\"customer_id\", \"name\", \"surname\", \"birth_date\").show(5)"
      ]
    },
    {
      "cell_type": "markdown",
      "metadata": {
        "id": "_VB-mAfmArXi"
      },
      "source": [
        "**<a id=\"data_manipulation\">Data manipulation: </a>** Calculating the ages from date of birth data."
      ]
    },
    {
      "cell_type": "code",
      "execution_count": 6,
      "metadata": {
        "colab": {
          "base_uri": "https://localhost:8080/"
        },
        "id": "yQygHIm3ArXi",
        "outputId": "675a0ee9-6e65-4716-ac6c-29c6be5e7d0b"
      },
      "outputs": [
        {
          "output_type": "stream",
          "name": "stdout",
          "text": [
            "+-----------+-------+--------+---+\n",
            "|customer_id|   name| surname|age|\n",
            "+-----------+-------+--------+---+\n",
            "|          1| Jazmin|  Burril| 67|\n",
            "|          2| Dalila|   Faers| 25|\n",
            "|          3|Wayland|Walework| 49|\n",
            "|          4|Amberly|  Haquin| 77|\n",
            "|          5|Garrett|   Frear| 68|\n",
            "+-----------+-------+--------+---+\n",
            "\n"
          ]
        }
      ],
      "source": [
        "# Yaş bilgisinin hesaplanması ve örneklerin incelenmesi\n",
        "\n",
        "spark.sql(\"\"\"\n",
        "SELECT\n",
        "    customer_id\n",
        "    ,name\n",
        "    ,surname\n",
        "    ,YEAR(CURRENT_DATE()) - YEAR(birth_date) AS age\n",
        "FROM DimCustomer\n",
        "LIMIT 5\n",
        "\"\"\").show()"
      ]
    },
    {
      "cell_type": "code",
      "execution_count": 9,
      "metadata": {
        "colab": {
          "base_uri": "https://localhost:8080/"
        },
        "id": "DZLSrF7aArXi",
        "outputId": "6afc0b1d-dfbf-4161-81d5-e2c93c0a7e12"
      },
      "outputs": [
        {
          "output_type": "stream",
          "name": "stdout",
          "text": [
            "+-----------+-------+--------+---+\n",
            "|customer_id|   name| surname|age|\n",
            "+-----------+-------+--------+---+\n",
            "|          1| Jazmin|  Burril| 67|\n",
            "|          2| Dalila|   Faers| 25|\n",
            "|          3|Wayland|Walework| 49|\n",
            "|          4|Amberly|  Haquin| 77|\n",
            "|          5|Garrett|   Frear| 68|\n",
            "+-----------+-------+--------+---+\n",
            "only showing top 5 rows\n",
            "\n"
          ]
        }
      ],
      "source": [
        "#df_cus DataFrame ine yaş hesaplayan bir sütun ekler. df_cus müsteri data frame üzerinden yaş hesaplanması ve örneklerin incelenmesi\n",
        "(\n",
        "    df_cus.withColumn(\"age\", F.year(F.current_date()) - F.year(\"birth_date\"))\n",
        "    .select(\"customer_id\", \"name\", \"surname\", \"age\")\n",
        "    .show(5)\n",
        ")"
      ]
    },
    {
      "cell_type": "markdown",
      "metadata": {
        "id": "yCBrjtXAArXj"
      },
      "source": [
        "**<a id=\"filtering_rows\">Filtering rows</a>**"
      ]
    },
    {
      "cell_type": "code",
      "execution_count": 10,
      "metadata": {
        "colab": {
          "base_uri": "https://localhost:8080/"
        },
        "id": "M1sjUqKvArXj",
        "outputId": "4ca89ec6-c2ae-4e98-d239-2a2c85304a20"
      },
      "outputs": [
        {
          "output_type": "stream",
          "name": "stdout",
          "text": [
            "+-------+--------+---+\n",
            "|   name| surname|age|\n",
            "+-------+--------+---+\n",
            "| Jazmin|  Burril| 67|\n",
            "|Wayland|Walework| 49|\n",
            "|Amberly|  Haquin| 77|\n",
            "|Garrett|   Frear| 68|\n",
            "|  Horst|   Isted| 50|\n",
            "+-------+--------+---+\n",
            "\n"
          ]
        }
      ],
      "source": [
        "# 30 yaşın üzerindeki müsterilerin filtrelenerek incelenmesi\n",
        "\n",
        "spark.sql(\"\"\"\n",
        "SELECT\n",
        "    name\n",
        "    ,surname\n",
        "    ,age\n",
        "FROM\n",
        "(\n",
        "    SELECT\n",
        "        customer_id\n",
        "        ,name\n",
        "        ,surname\n",
        "        ,YEAR(CURRENT_DATE()) - YEAR(birth_date) AS age\n",
        "    FROM DimCustomer\n",
        ")\n",
        "WHERE age >= 30\n",
        "LIMIT 5\n",
        "\"\"\").show()"
      ]
    },
    {
      "cell_type": "code",
      "execution_count": 12,
      "metadata": {
        "colab": {
          "base_uri": "https://localhost:8080/"
        },
        "id": "0HEvBfWGArXj",
        "outputId": "3e31d0fd-a6ca-40f0-9c33-500ffa2adc02"
      },
      "outputs": [
        {
          "output_type": "stream",
          "name": "stdout",
          "text": [
            "+-------+--------+---+\n",
            "|   name| surname|age|\n",
            "+-------+--------+---+\n",
            "| Jazmin|  Burril| 67|\n",
            "|Wayland|Walework| 49|\n",
            "|Amberly|  Haquin| 77|\n",
            "|Garrett|   Frear| 68|\n",
            "|  Horst|   Isted| 50|\n",
            "+-------+--------+---+\n",
            "only showing top 5 rows\n",
            "\n"
          ]
        }
      ],
      "source": [
        "# df_cus DataFrame ine yaş sütunu ekler  yaş grubuna göre müşteri verilerini incelenmesi\n",
        "\n",
        "(\n",
        "    df_cus.withColumn(\"age\", F.year(F.current_date()) - F.year(\"birth_date\"))\n",
        "    .select(\"name\", \"surname\", \"age\")\n",
        "    .filter(F.col(\"age\") >= 30)\n",
        "    .show(5)\n",
        ")"
      ]
    },
    {
      "cell_type": "markdown",
      "metadata": {
        "id": "tdl07H1TArXj"
      },
      "source": [
        "**<a id=\"aggregating_data\">Aggregating data</a>**"
      ]
    },
    {
      "cell_type": "code",
      "execution_count": 13,
      "metadata": {
        "colab": {
          "base_uri": "https://localhost:8080/"
        },
        "id": "LtSull8aArXk",
        "outputId": "752acf42-9754-42b4-f123-5adf0d763771"
      },
      "outputs": [
        {
          "output_type": "stream",
          "name": "stdout",
          "text": [
            "+--------+--------------+------------+\n",
            "|order_id|total_quantity|total_amount|\n",
            "+--------+--------------+------------+\n",
            "|    3647|            13|         521|\n",
            "|    2574|            13|         488|\n",
            "|    3515|            13|         402|\n",
            "|     101|            12|         359|\n",
            "|     440|            12|         426|\n",
            "|    3763|            12|         323|\n",
            "|    1585|            12|         488|\n",
            "|    3289|            12|         327|\n",
            "|    1382|            11|         452|\n",
            "|    1752|            11|         298|\n",
            "+--------+--------------+------------+\n",
            "\n"
          ]
        }
      ],
      "source": [
        "\n",
        "spark.sql(\"\"\"\n",
        "SELECT\n",
        "    order_id\n",
        "    ,SUM(quantity) AS total_quantity\n",
        "    ,SUM(total_amt) AS total_amount\n",
        "FROM FactSale\n",
        "GROUP BY order_id\n",
        "ORDER BY total_quantity DESC\n",
        "LIMIT 10\n",
        "\"\"\").show()"
      ]
    },
    {
      "cell_type": "code",
      "execution_count": 14,
      "metadata": {
        "colab": {
          "base_uri": "https://localhost:8080/"
        },
        "id": "2pgAopltArXk",
        "outputId": "1aca5233-e038-4942-dc8a-89ccc510d4cf"
      },
      "outputs": [
        {
          "output_type": "stream",
          "name": "stdout",
          "text": [
            "+--------+--------------+------------+\n",
            "|order_id|total_quantity|total_amount|\n",
            "+--------+--------------+------------+\n",
            "|    3647|            13|         521|\n",
            "|    2574|            13|         488|\n",
            "|    3515|            13|         402|\n",
            "|     101|            12|         359|\n",
            "|     440|            12|         426|\n",
            "|    3763|            12|         323|\n",
            "|    1585|            12|         488|\n",
            "|    3289|            12|         327|\n",
            "|    2337|            11|         357|\n",
            "|    3743|            11|         359|\n",
            "+--------+--------------+------------+\n",
            "only showing top 10 rows\n",
            "\n"
          ]
        }
      ],
      "source": [
        "\n",
        "(\n",
        "    df_sal.groupBy(\"order_id\").agg(\n",
        "        F.sum(\"quantity\").alias(\"total_quantity\"),\n",
        "        F.sum(\"total_amt\").alias(\"total_amount\")\n",
        "    ).orderBy(\"total_quantity\", ascending=False)\n",
        "    .show(10)\n",
        ")"
      ]
    },
    {
      "cell_type": "markdown",
      "metadata": {
        "id": "_OnGNsncArXk"
      },
      "source": [
        "**<a id=\"joining\">Joining</a>**"
      ]
    },
    {
      "cell_type": "markdown",
      "source": [
        "| JOIN Türü                            | Açıklama  |\n",
        "|--------------------------------------|----------|\n",
        "| **INNER JOIN**                       | Eşleşen kayıtları getirir. |\n",
        "| **LEFT JOIN**                        | Sol tablodaki tüm kayıtları, sağdan eşleşenlerle birlikte getirir. |\n",
        "| **RIGHT JOIN**                       | Sağ tablodaki tüm kayıtları, soldan eşleşenlerle birlikte getirir. |\n",
        "| **FULL JOIN**                        | Her iki tablodaki tüm kayıtları getirir, eşleşmeyenlere NULL yazar. |\n",
        "| **LEFT OUTER JOIN (ya da LEFT JOIN)** | Sol tablodaki tüm kayıtları döndürür; sağda eşleşmeyenler için NULL koyar. |\n",
        "| **RIGHT OUTER JOIN (ya da RIGHT JOIN)** | Sağ tablodaki tüm kayıtları döndürür; solda eşleşmeyenler için NULL koyar. |\n",
        "| **FULL OUTER JOIN (ya da OUTER JOIN)** | Her iki tablodaki tüm kayıtları döndürür; eşleşmeyen yerler NULL olur. |\n",
        "| **CROSS JOIN**                        | İki tablonun tüm kayıtlarını çarpar (kartaizyen çarpım); filtre olmadan tüm kombinasyonlar döner. Çok büyük sonuçlar üretebilir. |\n"
      ],
      "metadata": {
        "id": "IMbJuPu5uPr5"
      }
    },
    {
      "cell_type": "code",
      "execution_count": 15,
      "metadata": {
        "colab": {
          "base_uri": "https://localhost:8080/"
        },
        "id": "ExVHPES1ArXk",
        "outputId": "cf5445fa-8444-407d-ee3e-a71f6e6a9e81"
      },
      "outputs": [
        {
          "output_type": "stream",
          "name": "stdout",
          "text": [
            "+-----------------+------------------+\n",
            "|      region_name|               age|\n",
            "+-----------------+------------------+\n",
            "|          Akdeniz| 51.81521739130435|\n",
            "|     Dogu Anadolu| 51.13095238095238|\n",
            "|Guneydogu Anadolu| 49.58119658119658|\n",
            "|          Marmara|49.189542483660134|\n",
            "|       Ic Anadolu| 49.07772020725388|\n",
            "|        Karadeniz| 48.75121951219512|\n",
            "|              Ege|47.888888888888886|\n",
            "+-----------------+------------------+\n",
            "\n"
          ]
        }
      ],
      "source": [
        "# Bölgelere göre müşteri yaşı incelenmesi\n",
        "\n",
        "spark.sql(\"\"\"\n",
        "SELECT\n",
        "    region_name\n",
        "    ,AVG(YEAR(CURRENT_DATE()) - YEAR(birth_date)) AS age\n",
        "FROM DimCustomer cus\n",
        "INNER JOIN DimRegion reg\n",
        "ON cus.city_id = reg.city_id\n",
        "GROUP BY region_name\n",
        "ORDER BY age DESC\n",
        "\"\"\").show()"
      ]
    },
    {
      "cell_type": "code",
      "execution_count": 16,
      "metadata": {
        "colab": {
          "base_uri": "https://localhost:8080/"
        },
        "id": "qoeH5ZayArXl",
        "outputId": "fe0de9a1-1a09-4354-a0e8-5516f3bf12a5"
      },
      "outputs": [
        {
          "output_type": "stream",
          "name": "stdout",
          "text": [
            "+-----------------+------------------+\n",
            "|      region_name|               age|\n",
            "+-----------------+------------------+\n",
            "|          Akdeniz| 51.81521739130435|\n",
            "|     Dogu Anadolu| 51.13095238095238|\n",
            "|Guneydogu Anadolu| 49.58119658119658|\n",
            "|          Marmara|49.189542483660134|\n",
            "|       Ic Anadolu| 49.07772020725388|\n",
            "|        Karadeniz| 48.75121951219512|\n",
            "|              Ege|47.888888888888886|\n",
            "+-----------------+------------------+\n",
            "\n"
          ]
        }
      ],
      "source": [
        "(\n",
        "    df_cus\n",
        "    .join(df_reg, df_cus.city_id == df_reg.city_id)\n",
        "    .groupBy(\"region_name\").agg(\n",
        "        F.avg(F.year(F.current_date()) - F.year(\"birth_date\")).alias(\"age\")\n",
        "    )\n",
        "    .orderBy(\"age\", ascending=False)\n",
        "    .show()\n",
        ")"
      ]
    },
    {
      "cell_type": "markdown",
      "source": [
        "Yıl içinde aylık stışların incelenmesi"
      ],
      "metadata": {
        "id": "XZUi4kvOxnSn"
      }
    },
    {
      "cell_type": "code",
      "source": [
        "df_sal.withColumn(\"month\", F.month(\"date\")) \\\n",
        "    .groupBy(\"month\") \\\n",
        "    .agg(F.sum(\"total_amt\").alias(\"monthly_revenue\")) \\\n",
        "    .orderBy(\"month\") \\\n",
        "    .show()"
      ],
      "metadata": {
        "colab": {
          "base_uri": "https://localhost:8080/"
        },
        "id": "PPCHkeS7xncd",
        "outputId": "08f510d5-38c5-4d66-9bac-4212f2539c31"
      },
      "execution_count": 17,
      "outputs": [
        {
          "output_type": "stream",
          "name": "stdout",
          "text": [
            "+-----+---------------+\n",
            "|month|monthly_revenue|\n",
            "+-----+---------------+\n",
            "|    1|          62906|\n",
            "|    2|          53313|\n",
            "|    3|          62365|\n",
            "|    4|          65533|\n",
            "|    5|          61612|\n",
            "|    6|          53981|\n",
            "|    7|          62887|\n",
            "|    8|          54599|\n",
            "|    9|          57765|\n",
            "|   10|          60040|\n",
            "|   11|          58401|\n",
            "|   12|          55693|\n",
            "+-----+---------------+\n",
            "\n"
          ]
        }
      ]
    },
    {
      "cell_type": "markdown",
      "source": [
        "Bölgelere göre ürün satışı incelenmesi\n"
      ],
      "metadata": {
        "id": "ch3lWGMxySid"
      }
    },
    {
      "cell_type": "code",
      "source": [
        "from pyspark.sql.window import Window\n",
        "from pyspark.sql.functions import row_number\n",
        "\n",
        "top_product_df = df_sal \\\n",
        "    .join(df_cus, \"customer_id\") \\\n",
        "    .join(df_reg, df_cus.city_id == df_reg.city_id) \\\n",
        "    .join(df_pro, \"product_id\") \\\n",
        "    .groupBy(\"region_name\", \"product_type\") \\\n",
        "    .agg(F.sum(\"quantity\").alias(\"total_quantity\"))\n",
        "\n",
        "window_spec = Window.partitionBy(\"region_name\").orderBy(F.desc(\"total_quantity\"))\n",
        "\n",
        "top_product_df \\\n",
        "    .withColumn(\"rank\", row_number().over(window_spec)) \\\n",
        "    .filter(\"rank == 1\") \\\n",
        "    .select(\"region_name\", \"product_type\", \"total_quantity\") \\\n",
        "    .show()"
      ],
      "metadata": {
        "colab": {
          "base_uri": "https://localhost:8080/"
        },
        "id": "x1Kro_-GySo-",
        "outputId": "7a89e20c-244d-4276-d84d-d893495ee20e"
      },
      "execution_count": 18,
      "outputs": [
        {
          "output_type": "stream",
          "name": "stdout",
          "text": [
            "+-----------------+------------+--------------+\n",
            "|      region_name|product_type|total_quantity|\n",
            "+-----------------+------------+--------------+\n",
            "|          Akdeniz|    Trousers|           577|\n",
            "|     Dogu Anadolu|      Jacket|          1068|\n",
            "|              Ege|      Tshirt|           458|\n",
            "|Guneydogu Anadolu|      Jacket|           723|\n",
            "|       Ic Anadolu|      Tshirt|          1184|\n",
            "|        Karadeniz|    Trousers|          1188|\n",
            "|          Marmara|      Tshirt|           970|\n",
            "+-----------------+------------+--------------+\n",
            "\n"
          ]
        }
      ]
    },
    {
      "cell_type": "markdown",
      "metadata": {
        "id": "0NP--DYIArXl"
      },
      "source": [
        "<div style=\"background-color: white; padding: 10px; border-bottom: 4px solid #C2172D;\">\n",
        "    <a id=\"case_studies\">\n",
        "        <h3 style=\"color: #C2172D\">5. Case Studies</h3>\n",
        "    </a>  \n",
        "</div>"
      ]
    },
    {
      "cell_type": "markdown",
      "metadata": {
        "id": "y-XB_4OBArXl"
      },
      "source": [
        "<div style=\"background-color: white; padding: 10px;\">\n",
        "    <a id=\"assignment_1\">\n",
        "        <h4 style=\"color: #0D9276\">Assignment 1: Jacket sales per region</h3>\n",
        "    </a>\n",
        "</div>\n",
        "<br>\n",
        "<h4>\n",
        "    Write SparkSQL scripts that results: Region-based total quantity and amount of jacket sales between June and August 2023.\n",
        "</h4>\n",
        "<p>The expected out is as follows: </p>\n",
        "\n",
        "| region_name       | product_type | total_quantity | total_amount |   |\n",
        "|-------------------|--------------|----------------|--------------|---|\n",
        "| Marmara           | Jacket       | 213            | 8358         |   |\n",
        "| Dogu Anadolu      | Jacket       | 284            | 11547        |   |\n",
        "| Guneydogu Anadolu | Jacket       | 176            | 6981         |   |\n",
        "| Ic Anadolu        | Jacket       | 260            | 10496        |   |\n",
        "| Akdeniz           | Jacket       | 162            | 6637         |   |\n",
        "| Karadeniz         | Jacket       | 310            | 12582        |   |\n",
        "| Ege               | Jacket       | 101            | 3953      \n",
        "\n",
        "\n",
        "### External links\n",
        "- https://spark.apache.org/docs/3.1.2/api/python/reference/api/pyspark.sql.DataFrame.join.html\n",
        "- https://spark.apache.org/docs/latest/api/python/reference/pyspark.sql/api/pyspark.sql.DataFrame.filter.html\n",
        "- https://spark.apache.org/docs/3.1.1/api/python/reference/api/pyspark.sql.DataFrame.groupBy.html   |   |"
      ]
    },
    {
      "cell_type": "code",
      "source": [
        "# Your Spark SQL Solution:\n",
        "\n",
        "#joined FactSale with  DimProduct DimCustomer and DimRegion tables\n",
        "# Summed Jacket sales between June 1 2023 and August 31 2023 then\n",
        "\n",
        "\n",
        "spark.sql(\"\"\"\n",
        "    SELECT\n",
        "        DimRegion.region_name,\n",
        "        DimProduct.product_type,\n",
        "        SUM(FactSale.quantity) AS total_quantity,\n",
        "        SUM(FactSale.total_amt) AS total_amount\n",
        "    FROM FactSale\n",
        "    INNER JOIN DimProduct ON FactSale.product_id = DimProduct.product_id\n",
        "    INNER JOIN DimCustomer ON FactSale.customer_id = DimCustomer.customer_id\n",
        "    INNER JOIN DimRegion ON DimCustomer.city_id = DimRegion.city_id\n",
        "    WHERE\n",
        "        DimProduct.product_type = 'Jacket'\n",
        "        AND FactSale.date BETWEEN '2023-06-01' AND '2023-08-31'\n",
        "    GROUP BY\n",
        "        DimRegion.region_name,\n",
        "        DimProduct.product_type\n",
        "\"\"\").show()\n",
        "\n"
      ],
      "metadata": {
        "colab": {
          "base_uri": "https://localhost:8080/"
        },
        "id": "PE49FeLZV2rA",
        "outputId": "7d90187c-d026-472a-cf95-6fe03f1d4143"
      },
      "execution_count": 19,
      "outputs": [
        {
          "output_type": "stream",
          "name": "stdout",
          "text": [
            "+-----------------+------------+--------------+------------+\n",
            "|      region_name|product_type|total_quantity|total_amount|\n",
            "+-----------------+------------+--------------+------------+\n",
            "|          Marmara|      Jacket|           213|        8358|\n",
            "|     Dogu Anadolu|      Jacket|           284|       11547|\n",
            "|Guneydogu Anadolu|      Jacket|           176|        6981|\n",
            "|       Ic Anadolu|      Jacket|           260|       10496|\n",
            "|          Akdeniz|      Jacket|           162|        6637|\n",
            "|        Karadeniz|      Jacket|           310|       12582|\n",
            "|              Ege|      Jacket|           101|        3953|\n",
            "+-----------------+------------+--------------+------------+\n",
            "\n"
          ]
        }
      ]
    },
    {
      "cell_type": "code",
      "source": [
        "# Your PySpark Solution:\n",
        "\n",
        "df_sal.join(df_pro, df_sal.product_id == df_pro.product_id, \"inner\") \\\n",
        "    .join(df_cus, df_sal.customer_id == df_cus.customer_id, \"inner\") \\\n",
        "    .join(df_reg, df_cus.city_id == df_reg.city_id, \"inner\") \\\n",
        "    .filter((df_pro.product_type == \"Jacket\") &\n",
        "            (df_sal.date.between(\"2023-06-01\", \"2023-08-31\"))) \\\n",
        "    .groupBy(df_reg.region_name, df_pro.product_type) \\\n",
        "    .agg(\n",
        "        F.sum(df_sal.quantity).alias(\"total_quantity\"),\n",
        "        F.sum(df_sal.total_amt).alias(\"total_amount\")\n",
        "    ) \\\n",
        "    .show()\n"
      ],
      "metadata": {
        "colab": {
          "base_uri": "https://localhost:8080/"
        },
        "id": "LX532JQnMHHT",
        "outputId": "5504207e-1986-4edd-abfd-b08a86be07ca"
      },
      "execution_count": 20,
      "outputs": [
        {
          "output_type": "stream",
          "name": "stdout",
          "text": [
            "+-----------------+------------+--------------+------------+\n",
            "|      region_name|product_type|total_quantity|total_amount|\n",
            "+-----------------+------------+--------------+------------+\n",
            "|          Marmara|      Jacket|           213|        8358|\n",
            "|     Dogu Anadolu|      Jacket|           284|       11547|\n",
            "|Guneydogu Anadolu|      Jacket|           176|        6981|\n",
            "|       Ic Anadolu|      Jacket|           260|       10496|\n",
            "|          Akdeniz|      Jacket|           162|        6637|\n",
            "|        Karadeniz|      Jacket|           310|       12582|\n",
            "|              Ege|      Jacket|           101|        3953|\n",
            "+-----------------+------------+--------------+------------+\n",
            "\n"
          ]
        }
      ]
    },
    {
      "cell_type": "markdown",
      "metadata": {
        "id": "dsLyJZLzArXm"
      },
      "source": [
        "<div style=\"background-color: white; padding: 10px;\">\n",
        "    <a id=\"assignment_2\">\n",
        "        <h4 style=\"color: #0D9276\">Assignment 2: Maximum turnover of the retailer regions</h3>\n",
        "    </a>\n",
        "</div>\n",
        "<br>\n",
        "<h4>\n",
        "    Find the maximum turnover region of each retailer, and obtain total amount for each retailer and region.\n",
        "</h4>\n",
        "<p>The expected out is as follows: </p>\n",
        "\n",
        "| retailer_id | retailer_name | region_name | total_amount |\n",
        "|-------------|---------------|-------------|--------------|\n",
        "| 1           | A             | Karadeniz   | 42642        |\n",
        "| 2           | B             | Ic Anadolu  | 71689        |\n",
        "| 3           | C             | Ic Anadolu  | 11995        |\n",
        "| 4           | D             | Karadeniz   | 16081        |\n",
        "\n",
        "<br>"
      ]
    },
    {
      "cell_type": "code",
      "source": [
        "# Your Spark SQL Solution:\n",
        "# max total_amount region of each retailer\n",
        "# city_id values in the DimRetailer table represent the location of the retailer, not the place where the products are sold\n",
        "# using  city_id in the DimCustomer table to determine sale regions\n",
        "\n",
        "# FactSale, DimCustomer, DimRegion, and DimRetailer joined on customer_id, city_id, and retailer_id, and the region with the highest sales amount for each retailer was selected\n",
        "# selected highest region total_amount for each retailer\n",
        "\n",
        "spark.sql(\"\"\"\n",
        "WITH RetailerRegionSales AS (\n",
        "    SELECT\n",
        "        FactSale.retailer_id,\n",
        "        DimRetailer.retailer_name,\n",
        "        DimRegion.region_name,\n",
        "        SUM(FactSale.total_amt) AS total_amount\n",
        "    FROM FactSale\n",
        "    INNER JOIN DimCustomer ON FactSale.customer_id = DimCustomer.customer_id\n",
        "    INNER JOIN DimRegion ON DimCustomer.city_id = DimRegion.city_id\n",
        "    INNER JOIN DimRetailer ON FactSale.retailer_id = DimRetailer.retailer_id\n",
        "    GROUP BY FactSale.retailer_id, DimRetailer.retailer_name, DimRegion.region_name\n",
        ")\n",
        "SELECT\n",
        "    RetailerRegionSales.retailer_id,\n",
        "    RetailerRegionSales.retailer_name,\n",
        "    RetailerRegionSales.region_name,\n",
        "    RetailerRegionSales.total_amount\n",
        "FROM RetailerRegionSales\n",
        "WHERE (RetailerRegionSales.retailer_id, RetailerRegionSales.total_amount) IN (\n",
        "    SELECT retailer_id, MAX(total_amount)\n",
        "    FROM RetailerRegionSales\n",
        "    GROUP BY retailer_id\n",
        ")\n",
        "ORDER BY RetailerRegionSales.retailer_id\n",
        "\n",
        "\"\"\").show()"
      ],
      "metadata": {
        "colab": {
          "base_uri": "https://localhost:8080/"
        },
        "id": "1biYCnm0VftC",
        "outputId": "ac4cc19e-1d80-4ba2-8bc8-cc60ef2bf9f6"
      },
      "execution_count": 21,
      "outputs": [
        {
          "output_type": "stream",
          "name": "stdout",
          "text": [
            "+-----------+-------------+-----------+------------+\n",
            "|retailer_id|retailer_name|region_name|total_amount|\n",
            "+-----------+-------------+-----------+------------+\n",
            "|          1|            A|  Karadeniz|       42642|\n",
            "|          2|            B| Ic Anadolu|       71689|\n",
            "|          3|            C| Ic Anadolu|       11995|\n",
            "|          4|            D|  Karadeniz|       16081|\n",
            "+-----------+-------------+-----------+------------+\n",
            "\n"
          ]
        }
      ]
    },
    {
      "cell_type": "code",
      "source": [
        "#Your PySpark Solution:\n",
        "\n",
        "df_sal.join(df_cus, df_sal.customer_id == df_cus.customer_id) \\\n",
        "    .join(df_reg, df_cus.city_id == df_reg.city_id) \\\n",
        "    .join(df_ret, df_sal.retailer_id == df_ret.retailer_id) \\\n",
        "    .groupBy(df_sal.retailer_id, df_ret.retailer_name, df_reg.region_name) \\\n",
        "    .agg(F.sum(df_sal.total_amt).alias(\"total_amount\")) \\\n",
        "    .orderBy(\"retailer_id\") \\\n",
        "    .orderBy(F.desc(\"total_amount\")) \\\n",
        "    .dropDuplicates([\"retailer_id\"]) \\\n",
        "    .show()\n"
      ],
      "metadata": {
        "colab": {
          "base_uri": "https://localhost:8080/"
        },
        "id": "eM8xrLFBL8Es",
        "outputId": "e981f7ff-2d6e-4dc3-dfc9-53f1ec34886a"
      },
      "execution_count": 22,
      "outputs": [
        {
          "output_type": "stream",
          "name": "stdout",
          "text": [
            "+-----------+-------------+-----------+------------+\n",
            "|retailer_id|retailer_name|region_name|total_amount|\n",
            "+-----------+-------------+-----------+------------+\n",
            "|          1|            A|  Karadeniz|       42642|\n",
            "|          2|            B| Ic Anadolu|       71689|\n",
            "|          3|            C| Ic Anadolu|       11995|\n",
            "|          4|            D|  Karadeniz|       16081|\n",
            "+-----------+-------------+-----------+------------+\n",
            "\n"
          ]
        }
      ]
    }
  ],
  "metadata": {
    "kernelspec": {
      "display_name": "Python 3",
      "name": "python3"
    },
    "language_info": {
      "codemirror_mode": {
        "name": "ipython",
        "version": 3
      },
      "file_extension": ".py",
      "mimetype": "text/x-python",
      "name": "python",
      "nbconvert_exporter": "python",
      "pygments_lexer": "ipython3",
      "version": "3.11.5"
    },
    "colab": {
      "provenance": []
    }
  },
  "nbformat": 4,
  "nbformat_minor": 0
}